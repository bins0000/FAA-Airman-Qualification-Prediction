{
 "cells": [
  {
   "cell_type": "markdown",
   "id": "96741ef2-6770-428a-ba3f-3c10490e076d",
   "metadata": {},
   "source": [
    "# this code is the final version of PyTorch NNs"
   ]
  },
  {
   "cell_type": "markdown",
   "id": "d3c377aa-3648-40dd-ac54-b6e532ed781f",
   "metadata": {
    "id": "d3c377aa-3648-40dd-ac54-b6e532ed781f"
   },
   "source": [
    "# Libraries"
   ]
  },
  {
   "cell_type": "code",
   "execution_count": 1,
   "id": "7f9773d3-4ad2-4989-b8c3-8609dbf1476e",
   "metadata": {
    "id": "7f9773d3-4ad2-4989-b8c3-8609dbf1476e"
   },
   "outputs": [],
   "source": [
    "# load libaries\n",
    "import pandas as pd                  # for dataframe\n",
    "import numpy as np                   # for dealing with numpy\n",
    "import matplotlib.pyplot as plt      # for plots\n",
    "import seaborn as sns                # for statistical data visualization\n",
    "\n",
    "# a magic function that renders the figure in a notebook \n",
    "%matplotlib Inline\n",
    "\n",
    "# allow to display all columns of dataframe\n",
    "pd.set_option('display.max_columns', None)"
   ]
  },
  {
   "cell_type": "markdown",
   "id": "5ee11871-afd8-4f6f-8fe2-92a2fb716913",
   "metadata": {
    "id": "5ee11871-afd8-4f6f-8fe2-92a2fb716913"
   },
   "source": [
    "# Import Data"
   ]
  },
  {
   "cell_type": "code",
   "execution_count": 2,
   "id": "60c6355c-3114-4b71-b5af-52067c7f22cb",
   "metadata": {
    "colab": {
     "base_uri": "https://localhost:8080/",
     "height": 206
    },
    "id": "60c6355c-3114-4b71-b5af-52067c7f22cb",
    "outputId": "a6fc174a-dc05-4a17-a681-7c9814431a32"
   },
   "outputs": [
    {
     "data": {
      "text/html": [
       "<div>\n",
       "<style scoped>\n",
       "    .dataframe tbody tr th:only-of-type {\n",
       "        vertical-align: middle;\n",
       "    }\n",
       "\n",
       "    .dataframe tbody tr th {\n",
       "        vertical-align: top;\n",
       "    }\n",
       "\n",
       "    .dataframe thead th {\n",
       "        text-align: right;\n",
       "    }\n",
       "</style>\n",
       "<table border=\"1\" class=\"dataframe\">\n",
       "  <thead>\n",
       "    <tr style=\"text-align: right;\">\n",
       "      <th></th>\n",
       "      <th>ENROLID</th>\n",
       "      <th>AGE</th>\n",
       "      <th>SEX</th>\n",
       "      <th>I</th>\n",
       "      <th>II</th>\n",
       "      <th>III</th>\n",
       "      <th>IV</th>\n",
       "      <th>V</th>\n",
       "      <th>VI</th>\n",
       "      <th>VII</th>\n",
       "      <th>VIII</th>\n",
       "      <th>X</th>\n",
       "      <th>XI</th>\n",
       "      <th>XII</th>\n",
       "      <th>XIII</th>\n",
       "      <th>XIV</th>\n",
       "      <th>XV</th>\n",
       "      <th>XVI</th>\n",
       "      <th>XVII</th>\n",
       "      <th>XVIII</th>\n",
       "      <th>XIX</th>\n",
       "      <th>XX</th>\n",
       "      <th>XXI</th>\n",
       "      <th>XXII</th>\n",
       "      <th>LABEL</th>\n",
       "    </tr>\n",
       "  </thead>\n",
       "  <tbody>\n",
       "    <tr>\n",
       "      <th>0</th>\n",
       "      <td>571103</td>\n",
       "      <td>57</td>\n",
       "      <td>1</td>\n",
       "      <td>1</td>\n",
       "      <td>0</td>\n",
       "      <td>0</td>\n",
       "      <td>0</td>\n",
       "      <td>0</td>\n",
       "      <td>1</td>\n",
       "      <td>0</td>\n",
       "      <td>0</td>\n",
       "      <td>5</td>\n",
       "      <td>2</td>\n",
       "      <td>0</td>\n",
       "      <td>1</td>\n",
       "      <td>4</td>\n",
       "      <td>0</td>\n",
       "      <td>0</td>\n",
       "      <td>0</td>\n",
       "      <td>9</td>\n",
       "      <td>2</td>\n",
       "      <td>0</td>\n",
       "      <td>1</td>\n",
       "      <td>0</td>\n",
       "      <td>1</td>\n",
       "    </tr>\n",
       "    <tr>\n",
       "      <th>1</th>\n",
       "      <td>13452502</td>\n",
       "      <td>54</td>\n",
       "      <td>1</td>\n",
       "      <td>3</td>\n",
       "      <td>0</td>\n",
       "      <td>0</td>\n",
       "      <td>0</td>\n",
       "      <td>1</td>\n",
       "      <td>0</td>\n",
       "      <td>0</td>\n",
       "      <td>0</td>\n",
       "      <td>0</td>\n",
       "      <td>0</td>\n",
       "      <td>2</td>\n",
       "      <td>0</td>\n",
       "      <td>5</td>\n",
       "      <td>0</td>\n",
       "      <td>0</td>\n",
       "      <td>0</td>\n",
       "      <td>2</td>\n",
       "      <td>1</td>\n",
       "      <td>0</td>\n",
       "      <td>1</td>\n",
       "      <td>0</td>\n",
       "      <td>0</td>\n",
       "    </tr>\n",
       "    <tr>\n",
       "      <th>2</th>\n",
       "      <td>14357306</td>\n",
       "      <td>27</td>\n",
       "      <td>1</td>\n",
       "      <td>0</td>\n",
       "      <td>0</td>\n",
       "      <td>0</td>\n",
       "      <td>0</td>\n",
       "      <td>2</td>\n",
       "      <td>0</td>\n",
       "      <td>0</td>\n",
       "      <td>0</td>\n",
       "      <td>0</td>\n",
       "      <td>0</td>\n",
       "      <td>0</td>\n",
       "      <td>0</td>\n",
       "      <td>0</td>\n",
       "      <td>0</td>\n",
       "      <td>0</td>\n",
       "      <td>0</td>\n",
       "      <td>0</td>\n",
       "      <td>0</td>\n",
       "      <td>0</td>\n",
       "      <td>0</td>\n",
       "      <td>0</td>\n",
       "      <td>1</td>\n",
       "    </tr>\n",
       "    <tr>\n",
       "      <th>3</th>\n",
       "      <td>14828304</td>\n",
       "      <td>16</td>\n",
       "      <td>2</td>\n",
       "      <td>0</td>\n",
       "      <td>0</td>\n",
       "      <td>0</td>\n",
       "      <td>0</td>\n",
       "      <td>0</td>\n",
       "      <td>3</td>\n",
       "      <td>0</td>\n",
       "      <td>0</td>\n",
       "      <td>0</td>\n",
       "      <td>0</td>\n",
       "      <td>0</td>\n",
       "      <td>1</td>\n",
       "      <td>2</td>\n",
       "      <td>0</td>\n",
       "      <td>0</td>\n",
       "      <td>1</td>\n",
       "      <td>3</td>\n",
       "      <td>2</td>\n",
       "      <td>0</td>\n",
       "      <td>2</td>\n",
       "      <td>0</td>\n",
       "      <td>0</td>\n",
       "    </tr>\n",
       "    <tr>\n",
       "      <th>4</th>\n",
       "      <td>15194602</td>\n",
       "      <td>59</td>\n",
       "      <td>2</td>\n",
       "      <td>0</td>\n",
       "      <td>1</td>\n",
       "      <td>0</td>\n",
       "      <td>0</td>\n",
       "      <td>0</td>\n",
       "      <td>0</td>\n",
       "      <td>0</td>\n",
       "      <td>0</td>\n",
       "      <td>1</td>\n",
       "      <td>0</td>\n",
       "      <td>0</td>\n",
       "      <td>0</td>\n",
       "      <td>0</td>\n",
       "      <td>0</td>\n",
       "      <td>0</td>\n",
       "      <td>0</td>\n",
       "      <td>1</td>\n",
       "      <td>0</td>\n",
       "      <td>0</td>\n",
       "      <td>7</td>\n",
       "      <td>0</td>\n",
       "      <td>0</td>\n",
       "    </tr>\n",
       "  </tbody>\n",
       "</table>\n",
       "</div>"
      ],
      "text/plain": [
       "    ENROLID  AGE  SEX  I  II  III  IV  V  VI  VII  VIII  X  XI  XII  XIII  \\\n",
       "0    571103   57    1  1   0    0   0  0   1    0     0  5   2    0     1   \n",
       "1  13452502   54    1  3   0    0   0  1   0    0     0  0   0    2     0   \n",
       "2  14357306   27    1  0   0    0   0  2   0    0     0  0   0    0     0   \n",
       "3  14828304   16    2  0   0    0   0  0   3    0     0  0   0    0     1   \n",
       "4  15194602   59    2  0   1    0   0  0   0    0     0  1   0    0     0   \n",
       "\n",
       "   XIV  XV  XVI  XVII  XVIII  XIX  XX  XXI  XXII  LABEL  \n",
       "0    4   0    0     0      9    2   0    1     0      1  \n",
       "1    5   0    0     0      2    1   0    1     0      0  \n",
       "2    0   0    0     0      0    0   0    0     0      1  \n",
       "3    2   0    0     1      3    2   0    2     0      0  \n",
       "4    0   0    0     0      1    0   0    7     0      0  "
      ]
     },
     "execution_count": 2,
     "metadata": {},
     "output_type": "execute_result"
    }
   ],
   "source": [
    "# Import data\n",
    "df = pd.read_csv('df19_20.csv')\n",
    "df.head()"
   ]
  },
  {
   "cell_type": "markdown",
   "id": "7ba330f5-7ed2-4326-aedc-aca45b0b50fe",
   "metadata": {
    "id": "7ba330f5-7ed2-4326-aedc-aca45b0b50fe"
   },
   "source": [
    "# Import Sklearn Packages"
   ]
  },
  {
   "cell_type": "code",
   "execution_count": 3,
   "id": "e2f31b74-ea43-4925-976d-7341ef62832c",
   "metadata": {
    "id": "e2f31b74-ea43-4925-976d-7341ef62832c"
   },
   "outputs": [],
   "source": [
    "from sklearn.model_selection import train_test_split   # even though this is usually used for train-test split, I am using it to sample the data for now to have stratified sampling\n",
    "from sklearn.preprocessing import MinMaxScaler         # to normalize data"
   ]
  },
  {
   "cell_type": "markdown",
   "id": "5e69b91a-e324-4652-a8bf-8c9cf4bdebb2",
   "metadata": {
    "id": "5e69b91a-e324-4652-a8bf-8c9cf4bdebb2"
   },
   "source": [
    "# Split Data"
   ]
  },
  {
   "cell_type": "code",
   "execution_count": 4,
   "id": "e5d033f5-722b-4177-94b2-d7e14ee90aa1",
   "metadata": {
    "id": "e5d033f5-722b-4177-94b2-d7e14ee90aa1"
   },
   "outputs": [],
   "source": [
    "# Set Input Variables and Target Variable\n",
    "X = df.drop(columns = ['ENROLID', 'LABEL'], axis = 1)\n",
    "y = df['LABEL']"
   ]
  },
  {
   "cell_type": "code",
   "execution_count": 5,
   "id": "ee02eb74-32ad-4204-b979-c455c6c46285",
   "metadata": {
    "id": "ee02eb74-32ad-4204-b979-c455c6c46285"
   },
   "outputs": [],
   "source": [
    "# use train_test_split function to split data into training and testing data\n",
    "X_train, X_test, y_train, y_test = train_test_split(X, y, test_size=0.3, random_state=1, stratify=y)"
   ]
  },
  {
   "cell_type": "code",
   "execution_count": 6,
   "id": "7ba3c741-85ee-4443-aa82-cd2bdce41ac4",
   "metadata": {
    "colab": {
     "base_uri": "https://localhost:8080/",
     "height": 633
    },
    "id": "7ba3c741-85ee-4443-aa82-cd2bdce41ac4",
    "outputId": "3f6f96ea-11bb-498c-a792-642c3881c5d3"
   },
   "outputs": [
    {
     "data": {
      "text/plain": [
       "Text(0.5, 1.0, 'Class Distribution')"
      ]
     },
     "execution_count": 6,
     "metadata": {},
     "output_type": "execute_result"
    },
    {
     "data": {
      "image/png": "[encoded data removed]",
      "text/plain": [
       "<Figure size 720x504 with 1 Axes>"
      ]
     },
     "metadata": {
      "needs_background": "light"
     },
     "output_type": "display_data"
    }
   ],
   "source": [
    "# label frequency\n",
    "plt.figure(figsize=(10, 7))\n",
    "ax = y_train.value_counts().plot.bar()\n",
    "ax.set_title('Class Distribution')"
   ]
  },
  {
   "cell_type": "code",
   "execution_count": 60,
   "id": "873a720d-ce90-4abc-a813-4658b9189611",
   "metadata": {},
   "outputs": [
    {
     "data": {
      "text/plain": [
       "0    20717\n",
       "1     5813\n",
       "Name: LABEL, dtype: int64"
      ]
     },
     "execution_count": 60,
     "metadata": {},
     "output_type": "execute_result"
    }
   ],
   "source": [
    "y_train.value_counts()"
   ]
  },
  {
   "cell_type": "markdown",
   "id": "f2ba98e0-b795-46ae-95d3-a8077183a5ab",
   "metadata": {
    "id": "f2ba98e0-b795-46ae-95d3-a8077183a5ab"
   },
   "source": [
    "## Normalize data"
   ]
  },
  {
   "cell_type": "code",
   "execution_count": 7,
   "id": "76138624-6b3d-409f-934b-273655a59195",
   "metadata": {
    "id": "76138624-6b3d-409f-934b-273655a59195"
   },
   "outputs": [],
   "source": [
    "# normalize data\n",
    "scaler = MinMaxScaler()\n",
    "X_train = scaler.fit_transform(X_train)\n",
    "X_test = scaler.fit_transform(X_test)"
   ]
  },
  {
   "cell_type": "markdown",
   "id": "9f896580-4dfe-40c5-93e2-fd90f38bc1ee",
   "metadata": {
    "id": "9f896580-4dfe-40c5-93e2-fd90f38bc1ee"
   },
   "source": [
    "# Import SMOTE"
   ]
  },
  {
   "cell_type": "code",
   "execution_count": 8,
   "id": "11b3bfd4-3c0a-4098-9263-48c50809889d",
   "metadata": {
    "id": "11b3bfd4-3c0a-4098-9263-48c50809889d"
   },
   "outputs": [],
   "source": [
    "# https://imbalanced-learn.org/stable/references/generated/imblearn.over_sampling.SMOTE.html"
   ]
  },
  {
   "cell_type": "code",
   "execution_count": 9,
   "id": "a6ae9077-6cb2-41fa-88b1-1d83035d3efd",
   "metadata": {
    "id": "a6ae9077-6cb2-41fa-88b1-1d83035d3efd"
   },
   "outputs": [],
   "source": [
    "# install first if using it first-time\n",
    "# import sys\n",
    "# !{sys.executable} -m pip install imblearn"
   ]
  },
  {
   "cell_type": "code",
   "execution_count": 10,
   "id": "2fa601c1-ad80-480f-9922-da22c33fe5f1",
   "metadata": {
    "id": "2fa601c1-ad80-480f-9922-da22c33fe5f1"
   },
   "outputs": [],
   "source": [
    "# import SMOTE module from imblearn library\n",
    "# pip install imblearn (if you don't have imblearn in your system)\n",
    "from imblearn.over_sampling import SMOTE"
   ]
  },
  {
   "cell_type": "markdown",
   "id": "97824df6-2634-42aa-a118-0469615fb18b",
   "metadata": {
    "id": "97824df6-2634-42aa-a118-0469615fb18b"
   },
   "source": [
    "# SMOTE to oversample the data"
   ]
  },
  {
   "cell_type": "code",
   "execution_count": 11,
   "id": "024c58aa-425b-43c8-ad41-87488c317122",
   "metadata": {
    "id": "024c58aa-425b-43c8-ad41-87488c317122"
   },
   "outputs": [],
   "source": [
    "sm = SMOTE(random_state = 1, sampling_strategy='auto', k_neighbors=10)\n",
    "X_train_sm, y_train_sm = sm.fit_resample(X_train, y_train.ravel())"
   ]
  },
  {
   "cell_type": "code",
   "execution_count": 12,
   "id": "395ac094-31e2-4e4b-a65b-53a1ba9e5950",
   "metadata": {
    "colab": {
     "base_uri": "https://localhost:8080/"
    },
    "id": "395ac094-31e2-4e4b-a65b-53a1ba9e5950",
    "outputId": "8f14715f-d822-4e1f-9afc-a9d23afef871"
   },
   "outputs": [
    {
     "data": {
      "text/plain": [
       "array([[0.859375  , 1.        , 0.        , ..., 0.        , 0.125     ,\n",
       "        0.        ],\n",
       "       [0.59375   , 0.        , 0.        , ..., 0.        , 0.        ,\n",
       "        0.        ],\n",
       "       [0.03125   , 0.        , 0.11111111, ..., 0.        , 0.        ,\n",
       "        0.        ],\n",
       "       ...,\n",
       "       [0.79166964, 1.        , 0.        , ..., 0.        , 0.08333333,\n",
       "        0.        ],\n",
       "       [0.73417135, 0.        , 0.        , ..., 0.        , 0.01055244,\n",
       "        0.        ],\n",
       "       [0.9376154 , 0.        , 0.        , ..., 0.        , 0.08333333,\n",
       "        0.        ]])"
      ]
     },
     "execution_count": 12,
     "metadata": {},
     "output_type": "execute_result"
    }
   ],
   "source": [
    "X_train_sm"
   ]
  },
  {
   "cell_type": "code",
   "execution_count": 13,
   "id": "8eb66856-396a-4010-bd83-a1b18726ea08",
   "metadata": {
    "colab": {
     "base_uri": "https://localhost:8080/"
    },
    "id": "8eb66856-396a-4010-bd83-a1b18726ea08",
    "outputId": "216894d3-56d3-46b4-8326-f4a610dcd936"
   },
   "outputs": [
    {
     "data": {
      "text/plain": [
       "array([1, 0, 0, ..., 1, 1, 1], dtype=int64)"
      ]
     },
     "execution_count": 13,
     "metadata": {},
     "output_type": "execute_result"
    }
   ],
   "source": [
    "y_train_sm"
   ]
  },
  {
   "cell_type": "code",
   "execution_count": 14,
   "id": "6df8b799-3a41-41e4-8a6d-ce1783806097",
   "metadata": {
    "colab": {
     "base_uri": "https://localhost:8080/",
     "height": 504
    },
    "id": "6df8b799-3a41-41e4-8a6d-ce1783806097",
    "outputId": "81018d09-507d-400c-a348-ce7acb43ea94"
   },
   "outputs": [
    {
     "data": {
      "text/plain": [
       "([<matplotlib.axis.XTick at 0x287ae6e2ca0>,\n",
       "  <matplotlib.axis.XTick at 0x287ae6e2c70>],\n",
       " [Text(0, 0, ''), Text(0, 0, '')])"
      ]
     },
     "execution_count": 14,
     "metadata": {},
     "output_type": "execute_result"
    },
    {
     "data": {
      "image/png": "[encoded data removed]",
      "text/plain": [
       "<Figure size 432x288 with 1 Axes>"
      ]
     },
     "metadata": {
      "needs_background": "light"
     },
     "output_type": "display_data"
    }
   ],
   "source": [
    "#search unique labels\n",
    "lebels = list(np.unique(y_train_sm))\n",
    "\n",
    "#count occurrences of each unique label\n",
    "lebel_count = list(np.unique(y_train_sm, return_counts=True)[1])\n",
    "\n",
    "# label frequency\n",
    "plt.bar(lebels, lebel_count, width = 0.5)\n",
    "plt.title('Class Distribution')\n",
    "\n",
    "import math\n",
    "new_list = range(math.floor(min(lebels)), math.ceil(max(lebels))+1)\n",
    "plt.xticks(new_list)"
   ]
  },
  {
   "cell_type": "markdown",
   "id": "6f207e1f-6819-468c-91c1-51ab087da600",
   "metadata": {
    "id": "6f207e1f-6819-468c-91c1-51ab087da600"
   },
   "source": [
    "# PyTorch Neural Network"
   ]
  },
  {
   "cell_type": "markdown",
   "id": "6078f206-32a7-4cfc-bc16-6782922bdf90",
   "metadata": {
    "id": "6078f206-32a7-4cfc-bc16-6782922bdf90"
   },
   "source": [
    "https://www.learnpytorch.io/02_pytorch_classification/#1-make-classification-data-and-get-it-ready"
   ]
  },
  {
   "cell_type": "code",
   "execution_count": 20,
   "id": "3d664130-ff2b-4be7-8598-dc7dea0f3217",
   "metadata": {
    "id": "3d664130-ff2b-4be7-8598-dc7dea0f3217"
   },
   "outputs": [],
   "source": [
    "# install PyTorch first if using it first-time\n",
    "# uncomment below to install -- or may be better to install on the terminal\n",
    "# import sys\n",
    "# !{sys.executable} -m pip uninstall torch --yes"
   ]
  },
  {
   "cell_type": "code",
   "execution_count": null,
   "id": "19c619d5-33c3-4977-96d5-4fb50faaacbc",
   "metadata": {
    "id": "19c619d5-33c3-4977-96d5-4fb50faaacbc"
   },
   "outputs": [],
   "source": [
    "# !{sys.executable} -m pip install torch torchvision torchaudio --index-url https://download.pytorch.org/whl/cu118 --yes"
   ]
  },
  {
   "cell_type": "code",
   "execution_count": 23,
   "id": "f15b12fb-9774-41f2-bd38-f9486981d849",
   "metadata": {
    "id": "f15b12fb-9774-41f2-bd38-f9486981d849"
   },
   "outputs": [],
   "source": [
    "# import PyTorch\n",
    "import torch\n",
    "from torch import nn"
   ]
  },
  {
   "cell_type": "code",
   "execution_count": 24,
   "id": "baea4d96-53d7-451c-a266-5ad2e2a26fe6",
   "metadata": {
    "id": "baea4d96-53d7-451c-a266-5ad2e2a26fe6"
   },
   "outputs": [],
   "source": [
    "# convert np.arrays to tensors\n",
    "\n",
    "# training data\n",
    "X_train_sm = torch.from_numpy(X_train_sm).type(torch.float)\n",
    "y_train_sm = torch.from_numpy(y_train_sm).type(torch.float)\n",
    "\n",
    "# testing data\n",
    "X_test = torch.from_numpy(X_test).type(torch.float)\n",
    "# since y_test is still a pd.series, need to convert to np.array\n",
    "y_test = torch.from_numpy(y_test.to_numpy()).type(torch.float)"
   ]
  },
  {
   "cell_type": "code",
   "execution_count": 25,
   "id": "83192359-6975-4597-a9f7-5b56fbf9eb7d",
   "metadata": {
    "colab": {
     "base_uri": "https://localhost:8080/"
    },
    "id": "83192359-6975-4597-a9f7-5b56fbf9eb7d",
    "outputId": "46d3e8f1-0439-41b0-83f8-9bd71a7097f0"
   },
   "outputs": [
    {
     "data": {
      "text/plain": [
       "torch.Size([41434, 23])"
      ]
     },
     "execution_count": 25,
     "metadata": {},
     "output_type": "execute_result"
    }
   ],
   "source": [
    "X_train_sm.shape"
   ]
  },
  {
   "cell_type": "code",
   "execution_count": 26,
   "id": "26c245b8-07d2-4e84-86a9-2d20c82477c5",
   "metadata": {
    "colab": {
     "base_uri": "https://localhost:8080/"
    },
    "id": "26c245b8-07d2-4e84-86a9-2d20c82477c5",
    "outputId": "cc773c7f-3777-4b05-d291-f9d4d793695e"
   },
   "outputs": [
    {
     "data": {
      "text/plain": [
       "tensor([[0.8594, 1.0000, 0.0000,  ..., 0.0000, 0.1250, 0.0000],\n",
       "        [0.5938, 0.0000, 0.0000,  ..., 0.0000, 0.0000, 0.0000],\n",
       "        [0.0312, 0.0000, 0.1111,  ..., 0.0000, 0.0000, 0.0000],\n",
       "        ...,\n",
       "        [0.7917, 1.0000, 0.0000,  ..., 0.0000, 0.0833, 0.0000],\n",
       "        [0.7342, 0.0000, 0.0000,  ..., 0.0000, 0.0106, 0.0000],\n",
       "        [0.9376, 0.0000, 0.0000,  ..., 0.0000, 0.0833, 0.0000]])"
      ]
     },
     "execution_count": 26,
     "metadata": {},
     "output_type": "execute_result"
    }
   ],
   "source": [
    "X_train_sm"
   ]
  },
  {
   "cell_type": "code",
   "execution_count": 27,
   "id": "73373a69-6ee8-4d95-90d7-acc9274adcf9",
   "metadata": {
    "colab": {
     "base_uri": "https://localhost:8080/"
    },
    "id": "73373a69-6ee8-4d95-90d7-acc9274adcf9",
    "outputId": "0913f55a-5f8b-42fc-f845-de243cd2faa3"
   },
   "outputs": [
    {
     "data": {
      "text/plain": [
       "tensor([1., 0., 0.,  ..., 1., 1., 1.])"
      ]
     },
     "execution_count": 27,
     "metadata": {},
     "output_type": "execute_result"
    }
   ],
   "source": [
    "y_train_sm"
   ]
  },
  {
   "cell_type": "code",
   "execution_count": 28,
   "id": "17b27234-92ac-4c56-9c69-3e18d24baef3",
   "metadata": {
    "colab": {
     "base_uri": "https://localhost:8080/",
     "height": 35
    },
    "id": "17b27234-92ac-4c56-9c69-3e18d24baef3",
    "outputId": "624b7b79-d9a5-4686-f422-14a90e6abd1a"
   },
   "outputs": [
    {
     "data": {
      "text/plain": [
       "'cuda'"
      ]
     },
     "execution_count": 28,
     "metadata": {},
     "output_type": "execute_result"
    }
   ],
   "source": [
    "# setting up device agnostic code (so our model can run on CPU or GPU if it's available)\n",
    "# Make device agnostic code\n",
    "device = \"cuda\" if torch.cuda.is_available() else \"cpu\"\n",
    "device"
   ]
  },
  {
   "cell_type": "code",
   "execution_count": 29,
   "id": "b241d22e-c03d-4ca7-b259-8bc99b2d6779",
   "metadata": {
    "colab": {
     "base_uri": "https://localhost:8080/"
    },
    "id": "b241d22e-c03d-4ca7-b259-8bc99b2d6779",
    "outputId": "62509a0f-4894-462b-89e3-b916d6a7bf42"
   },
   "outputs": [
    {
     "data": {
      "text/plain": [
       "True"
      ]
     },
     "execution_count": 29,
     "metadata": {},
     "output_type": "execute_result"
    }
   ],
   "source": [
    "# Check for GPU\n",
    "torch.cuda.is_available()"
   ]
  },
  {
   "cell_type": "code",
   "execution_count": 30,
   "id": "b9b2363d-f712-474e-955e-800e99ccf146",
   "metadata": {
    "colab": {
     "base_uri": "https://localhost:8080/",
     "height": 287
    },
    "id": "b9b2363d-f712-474e-955e-800e99ccf146",
    "outputId": "81efb7df-273b-44ec-9032-412cdbc3ef36"
   },
   "outputs": [
    {
     "data": {
      "text/plain": [
       "tensor([0.], device='cuda:0')"
      ]
     },
     "execution_count": 30,
     "metadata": {},
     "output_type": "execute_result"
    }
   ],
   "source": [
    "torch.zeros(1).cuda()"
   ]
  },
  {
   "cell_type": "code",
   "execution_count": 31,
   "id": "59793caf-05e7-4991-a2e0-90b7cf4e02d0",
   "metadata": {
    "id": "59793caf-05e7-4991-a2e0-90b7cf4e02d0",
    "outputId": "45f68103-9394-459b-ee9a-ce6510727af8"
   },
   "outputs": [
    {
     "name": "stdout",
     "output_type": "stream",
     "text": [
      "Thu Apr 20 18:17:46 2023       \n",
      "+-----------------------------------------------------------------------------+\n",
      "| NVIDIA-SMI 527.56       Driver Version: 527.56       CUDA Version: 12.0     |\n",
      "|-------------------------------+----------------------+----------------------+\n",
      "| GPU  Name            TCC/WDDM | Bus-Id        Disp.A | Volatile Uncorr. ECC |\n",
      "| Fan  Temp  Perf  Pwr:Usage/Cap|         Memory-Usage | GPU-Util  Compute M. |\n",
      "|                               |                      |               MIG M. |\n",
      "|===============================+======================+======================|\n",
      "|   0  NVIDIA GeForce ... WDDM  | 00000000:01:00.0 Off |                  N/A |\n",
      "| N/A   53C    P2    25W /  80W |    510MiB /  6144MiB |      5%      Default |\n",
      "|                               |                      |                  N/A |\n",
      "+-------------------------------+----------------------+----------------------+\n",
      "                                                                               \n",
      "+-----------------------------------------------------------------------------+\n",
      "| Processes:                                                                  |\n",
      "|  GPU   GI   CI        PID   Type   Process name                  GPU Memory |\n",
      "|        ID   ID                                                   Usage      |\n",
      "|=============================================================================|\n",
      "|    0   N/A  N/A     15872    C+G   ...y\\ShellExperienceHost.exe    N/A      |\n",
      "|    0   N/A  N/A     16176      C   ...asri\\anaconda3\\python.exe    N/A      |\n",
      "|    0   N/A  N/A     21380    C+G   ...lPanel\\SystemSettings.exe    N/A      |\n",
      "+-----------------------------------------------------------------------------+\n"
     ]
    }
   ],
   "source": [
    "!nvidia-smi"
   ]
  },
  {
   "cell_type": "markdown",
   "id": "89d82f89-2f5c-4951-b6d6-ca6273591bb8",
   "metadata": {
    "id": "89d82f89-2f5c-4951-b6d6-ca6273591bb8"
   },
   "source": [
    "# hyperparameter tuning\n",
    "https://machinelearningmastery.com/how-to-grid-search-hyperparameters-for-pytorch-models/"
   ]
  },
  {
   "cell_type": "code",
   "execution_count": 32,
   "id": "2c5a038a-4832-4d4f-9215-ffb3bfd803e0",
   "metadata": {
    "colab": {
     "base_uri": "https://localhost:8080/"
    },
    "id": "2c5a038a-4832-4d4f-9215-ffb3bfd803e0",
    "outputId": "c9ae7442-b1e8-496d-a8da-04475275c864"
   },
   "outputs": [
    {
     "name": "stdout",
     "output_type": "stream",
     "text": [
      "Collecting skorch\n",
      "  Downloading skorch-0.12.1-py3-none-any.whl (193 kB)\n",
      "Requirement already satisfied: scipy>=1.1.0 in c:\\users\\nasri\\anaconda3\\lib\\site-packages (from skorch) (1.7.3)\n",
      "Requirement already satisfied: tabulate>=0.7.7 in c:\\users\\nasri\\anaconda3\\lib\\site-packages (from skorch) (0.8.9)\n",
      "Requirement already satisfied: tqdm>=4.14.0 in c:\\users\\nasri\\anaconda3\\lib\\site-packages (from skorch) (4.64.0)\n",
      "Requirement already satisfied: numpy>=1.13.3 in c:\\users\\nasri\\anaconda3\\lib\\site-packages (from skorch) (1.22.4)\n",
      "Requirement already satisfied: scikit-learn>=0.22.0 in c:\\users\\nasri\\anaconda3\\lib\\site-packages (from skorch) (1.0.2)\n",
      "Requirement already satisfied: joblib>=0.11 in c:\\users\\nasri\\anaconda3\\lib\\site-packages (from scikit-learn>=0.22.0->skorch) (1.2.0)\n",
      "Requirement already satisfied: threadpoolctl>=2.0.0 in c:\\users\\nasri\\anaconda3\\lib\\site-packages (from scikit-learn>=0.22.0->skorch) (2.2.0)\n",
      "Requirement already satisfied: colorama in c:\\users\\nasri\\anaconda3\\lib\\site-packages (from tqdm>=4.14.0->skorch) (0.4.4)\n",
      "Installing collected packages: skorch\n",
      "Successfully installed skorch-0.12.1\n"
     ]
    }
   ],
   "source": [
    "import sys\n",
    "!{sys.executable} -m pip install skorch"
   ]
  },
  {
   "cell_type": "code",
   "execution_count": null,
   "id": "7d3b355c-4fa1-46fc-bc92-838a880a4bc7",
   "metadata": {
    "id": "7d3b355c-4fa1-46fc-bc92-838a880a4bc7",
    "outputId": "a7ca8f78-2971-48f3-99be-dd1ed3d76b56"
   },
   "outputs": [
    {
     "data": {
      "text/plain": [
       "torch.Size([41434, 23])"
      ]
     },
     "execution_count": 35,
     "metadata": {},
     "output_type": "execute_result"
    }
   ],
   "source": [
    "X_train_sm.squeeze().shape"
   ]
  },
  {
   "cell_type": "code",
   "execution_count": null,
   "id": "fc78da0b-5ecc-4749-b2f1-6dd7a15f277a",
   "metadata": {
    "id": "fc78da0b-5ecc-4749-b2f1-6dd7a15f277a",
    "outputId": "043ed12d-9ded-412e-f470-5e5101346443"
   },
   "outputs": [
    {
     "data": {
      "text/plain": [
       "torch.Size([41434, 1])"
      ]
     },
     "execution_count": 38,
     "metadata": {},
     "output_type": "execute_result"
    }
   ],
   "source": [
    "y_train_sm.unsqueeze(1).shape"
   ]
  },
  {
   "cell_type": "code",
   "execution_count": 33,
   "id": "wlOG5bXWkv4D",
   "metadata": {
    "id": "wlOG5bXWkv4D"
   },
   "outputs": [],
   "source": [
    "import random\n",
    "import numpy as np\n",
    "import torch\n",
    "import torch.nn as nn\n",
    "import torch.optim as optim\n",
    "from skorch import NeuralNetClassifier\n",
    "from sklearn.model_selection import GridSearchCV"
   ]
  },
  {
   "cell_type": "markdown",
   "id": "1315651f-4b0d-4bcb-92ba-3ba77088822b",
   "metadata": {},
   "source": [
    "#### computation time for below gridsearch: 6166 sec\n",
    "'batch_size': [10, 20, 50, 100],\n",
    "    'max_epochs': [100, 500, 1000]"
   ]
  },
  {
   "cell_type": "code",
   "execution_count": null,
   "id": "be5942a6-ffe1-426e-9d14-54d10eefb266",
   "metadata": {
    "id": "be5942a6-ffe1-426e-9d14-54d10eefb266",
    "outputId": "cfa0dc20-765b-43e6-b341-b39479443604"
   },
   "outputs": [
    {
     "name": "stdout",
     "output_type": "stream",
     "text": [
      "Best: 0.601077 using {'batch_size': 100, 'max_epochs': 1000}\n",
      "0.500893 (0.000515) with: {'batch_size': 10, 'max_epochs': 100}\n",
      "0.502317 (0.002066) with: {'batch_size': 10, 'max_epochs': 500}\n",
      "0.503331 (0.002138) with: {'batch_size': 10, 'max_epochs': 1000}\n",
      "0.500362 (0.000452) with: {'batch_size': 20, 'max_epochs': 100}\n",
      "0.502100 (0.001224) with: {'batch_size': 20, 'max_epochs': 500}\n",
      "0.503548 (0.001693) with: {'batch_size': 20, 'max_epochs': 1000}\n",
      "0.502076 (0.001143) with: {'batch_size': 50, 'max_epochs': 100}\n",
      "0.509533 (0.004289) with: {'batch_size': 50, 'max_epochs': 500}\n",
      "0.509582 (0.005209) with: {'batch_size': 50, 'max_epochs': 1000}\n",
      "0.592581 (0.042323) with: {'batch_size': 100, 'max_epochs': 100}\n",
      "0.586452 (0.067047) with: {'batch_size': 100, 'max_epochs': 500}\n",
      "0.601077 (0.052402) with: {'batch_size': 100, 'max_epochs': 1000}\n"
     ]
    }
   ],
   "source": [
    "# PyTorch classifier  \n",
    "class PimaClassifier(nn.Module):\n",
    "    def __init__(self):\n",
    "        super().__init__()\n",
    "        self.layer = nn.Linear(23, 100)\n",
    "        self.act = nn.ReLU()\n",
    "        self.output = nn.Linear(100, 1)\n",
    "        self.prob = nn.Sigmoid()\n",
    "\n",
    "    def forward(self, x):\n",
    "        x = self.act(self.layer(x))\n",
    "        x = self.prob(self.output(x))\n",
    "        return x\n",
    "\n",
    "# create model with skorch\n",
    "model = NeuralNetClassifier(\n",
    "    PimaClassifier,\n",
    "    criterion=nn.BCELoss,\n",
    "    optimizer=optim.Adam,\n",
    "    verbose=False\n",
    ")\n",
    "\n",
    "# define the grid search parameters\n",
    "param_grid = {\n",
    "    'batch_size': [10, 20, 50, 100],\n",
    "    'max_epochs': [100, 500, 1000]\n",
    "}\n",
    "grid = GridSearchCV(estimator=model, param_grid=param_grid, n_jobs=-1, cv=5)\n",
    "grid_result = grid.fit(X_train_sm, y_train_sm.unsqueeze(1))\n",
    "\n",
    "# summarize results\n",
    "print(\"Best: %f using %s\" % (grid_result.best_score_, grid_result.best_params_))\n",
    "means = grid_result.cv_results_['mean_test_score']\n",
    "stds = grid_result.cv_results_['std_test_score']\n",
    "params = grid_result.cv_results_['params']\n",
    "for mean, stdev, param in zip(means, stds, params):\n",
    "    print(\"%f (%f) with: %r\" % (mean, stdev, param))"
   ]
  },
  {
   "cell_type": "code",
   "execution_count": null,
   "id": "0b37fd09-c33d-4a71-b99b-a3f0264594ae",
   "metadata": {
    "id": "0b37fd09-c33d-4a71-b99b-a3f0264594ae"
   },
   "outputs": [],
   "source": [
    "# computation time: 6166 sec"
   ]
  },
  {
   "cell_type": "markdown",
   "id": "f5a702bc-5084-4a35-bcb2-3b957279a924",
   "metadata": {},
   "source": [
    "#### computation time for below gridsearch: 23410 sec\n",
    "'optimizer': [optim.SGD, optim.RMSprop, optim.Adagrad, optim.Adadelta,\n",
    "                  optim.Adam, optim.Adamax, optim.NAdam],"
   ]
  },
  {
   "cell_type": "code",
   "execution_count": null,
   "id": "L6oHiLYqk9E5",
   "metadata": {
    "colab": {
     "base_uri": "https://localhost:8080/"
    },
    "id": "L6oHiLYqk9E5",
    "outputId": "5c723dc3-efa4-43cc-b351-ad1c0a4aea68"
   },
   "outputs": [
    {
     "name": "stdout",
     "output_type": "stream",
     "text": [
      "Best: 0.709683 using {'optimizer': <class 'torch.optim.adagrad.Adagrad'>}\n",
      "0.504706 (0.002230) with: {'optimizer': <class 'torch.optim.sgd.SGD'>}\n",
      "0.506565 (0.003953) with: {'optimizer': <class 'torch.optim.rmsprop.RMSprop'>}\n",
      "0.709683 (0.005781) with: {'optimizer': <class 'torch.optim.adagrad.Adagrad'>}\n",
      "0.707366 (0.004902) with: {'optimizer': <class 'torch.optim.adadelta.Adadelta'>}\n",
      "0.589107 (0.064675) with: {'optimizer': <class 'torch.optim.adam.Adam'>}\n",
      "0.539774 (0.015812) with: {'optimizer': <class 'torch.optim.adamax.Adamax'>}\n",
      "0.614544 (0.043026) with: {'optimizer': <class 'torch.optim.nadam.NAdam'>}\n"
     ]
    }
   ],
   "source": [
    "# tune optimizer\n",
    "class PimaClassifier(nn.Module):\n",
    "    def __init__(self):\n",
    "        super().__init__()\n",
    "        self.layer = nn.Linear(23, 100)\n",
    "        self.act = nn.ReLU()\n",
    "        self.output = nn.Linear(100, 1)\n",
    "        self.prob = nn.Sigmoid()\n",
    "\n",
    "    def forward(self, x):\n",
    "        x = self.act(self.layer(x))\n",
    "        x = self.prob(self.output(x))\n",
    "        return x\n",
    "\n",
    "# create model with skorch\n",
    "model = NeuralNetClassifier(\n",
    "    PimaClassifier,\n",
    "    criterion=nn.BCELoss,\n",
    "    max_epochs=1000,\n",
    "    batch_size=100,\n",
    "    verbose=False\n",
    ")\n",
    "\n",
    "# define the grid search parameters\n",
    "param_grid = {\n",
    "    'optimizer': [optim.SGD, optim.RMSprop, optim.Adagrad, optim.Adadelta,\n",
    "                  optim.Adam, optim.Adamax, optim.NAdam],\n",
    "}\n",
    "grid = GridSearchCV(estimator=model, param_grid=param_grid, n_jobs=-1, cv=5)\n",
    "grid_result = grid.fit(X_train_sm, y_train_sm.unsqueeze(1))\n",
    "\n",
    "# summarize results\n",
    "print(\"Best: %f using %s\" % (grid_result.best_score_, grid_result.best_params_))\n",
    "means = grid_result.cv_results_['mean_test_score']\n",
    "stds = grid_result.cv_results_['std_test_score']\n",
    "params = grid_result.cv_results_['params']\n",
    "for mean, stdev, param in zip(means, stds, params):\n",
    "    print(\"%f (%f) with: %r\" % (mean, stdev, param))"
   ]
  },
  {
   "cell_type": "code",
   "execution_count": null,
   "id": "FyLOLdyHmWKp",
   "metadata": {
    "id": "FyLOLdyHmWKp"
   },
   "outputs": [],
   "source": [
    "# 23410 sec"
   ]
  },
  {
   "cell_type": "markdown",
   "id": "c5443514-10d6-41f9-a850-110fe286d735",
   "metadata": {},
   "source": [
    "#### computation time for below gridsearch: 6033 sec\n",
    "'optimizer__lr': [0.01, 0.1, 0.5]"
   ]
  },
  {
   "cell_type": "code",
   "execution_count": 29,
   "id": "EYcQ4l7QzbNj",
   "metadata": {
    "colab": {
     "base_uri": "https://localhost:8080/"
    },
    "id": "EYcQ4l7QzbNj",
    "outputId": "3b36d194-2d37-49f0-e131-a2ba03fb70ad"
   },
   "outputs": [
    {
     "name": "stdout",
     "output_type": "stream",
     "text": [
      "Best: 0.709562 using {'optimizer__lr': 0.01}\n",
      "0.709562 (0.005343) with: {'optimizer__lr': 0.01}\n",
      "0.626973 (0.026114) with: {'optimizer__lr': 0.1}\n",
      "0.541294 (0.018587) with: {'optimizer__lr': 0.5}\n"
     ]
    }
   ],
   "source": [
    "# Tune learning rate 6033 sec\n",
    "class PimaClassifier(nn.Module):\n",
    "    def __init__(self):\n",
    "        super().__init__()\n",
    "        self.layer = nn.Linear(23, 100)\n",
    "        self.act = nn.ReLU()\n",
    "        self.output = nn.Linear(100, 1)\n",
    "        self.prob = nn.Sigmoid()\n",
    "\n",
    "    def forward(self, x):\n",
    "        x = self.act(self.layer(x))\n",
    "        x = self.prob(self.output(x))\n",
    "        return x\n",
    "\n",
    "# create model with skorch\n",
    "model = NeuralNetClassifier(\n",
    "    PimaClassifier,\n",
    "    criterion=nn.BCELoss,\n",
    "    optimizer=optim.Adagrad,\n",
    "    max_epochs=1000,\n",
    "    batch_size=100,\n",
    "    verbose=False\n",
    ")\n",
    "\n",
    "# define the grid search parameters\n",
    "param_grid = {\n",
    "    'optimizer__lr': [0.01, 0.1, 0.5],\n",
    "}\n",
    "grid = GridSearchCV(estimator=model, param_grid=param_grid, n_jobs=-1, cv=5)\n",
    "grid_result = grid.fit(X_train_sm, y_train_sm.unsqueeze(1))\n",
    "\n",
    "# summarize results\n",
    "print(\"Best: %f using %s\" % (grid_result.best_score_, grid_result.best_params_))\n",
    "means = grid_result.cv_results_['mean_test_score']\n",
    "stds = grid_result.cv_results_['std_test_score']\n",
    "params = grid_result.cv_results_['params']\n",
    "for mean, stdev, param in zip(means, stds, params):\n",
    "    print(\"%f (%f) with: %r\" % (mean, stdev, param))"
   ]
  },
  {
   "cell_type": "code",
   "execution_count": null,
   "id": "4c2c442b-692e-4a80-b80e-70e33a7ff44e",
   "metadata": {},
   "outputs": [],
   "source": []
  },
  {
   "cell_type": "code",
   "execution_count": 29,
   "id": "a756ef72-5d27-44b9-aab0-4099e0e9707a",
   "metadata": {
    "colab": {
     "base_uri": "https://localhost:8080/"
    },
    "id": "EYcQ4l7QzbNj",
    "outputId": "3b36d194-2d37-49f0-e131-a2ba03fb70ad"
   },
   "outputs": [
    {
     "name": "stdout",
     "output_type": "stream",
     "text": [
      "Best: 0.709562 using {'optimizer__lr': 0.01}\n",
      "0.709562 (0.005343) with: {'optimizer__lr': 0.01}\n",
      "0.626973 (0.026114) with: {'optimizer__lr': 0.1}\n",
      "0.541294 (0.018587) with: {'optimizer__lr': 0.5}\n"
     ]
    }
   ],
   "source": [
    "# Tune learning rate -- 6033 sec\n",
    "class PimaClassifier(nn.Module):\n",
    "    def __init__(self):\n",
    "        super().__init__()\n",
    "        self.layer = nn.Linear(23, 100)\n",
    "        self.act = nn.ReLU()\n",
    "        self.output = nn.Linear(100, 1)\n",
    "        self.prob = nn.Sigmoid()\n",
    "\n",
    "    def forward(self, x):\n",
    "        x = self.act(self.layer(x))\n",
    "        x = self.prob(self.output(x))\n",
    "        return x\n",
    "\n",
    "# create model with skorch\n",
    "model = NeuralNetClassifier(\n",
    "    PimaClassifier,\n",
    "    criterion=nn.BCELoss,\n",
    "    optimizer=optim.Adagrad,\n",
    "    max_epochs=1000,\n",
    "    batch_size=100,\n",
    "    verbose=False\n",
    ")\n",
    "\n",
    "# define the grid search parameters\n",
    "param_grid = {\n",
    "    'optimizer__lr': [0.01, 0.1, 0.5],\n",
    "}\n",
    "grid = GridSearchCV(estimator=model, param_grid=param_grid, n_jobs=-1, cv=5)\n",
    "grid_result = grid.fit(X_train_sm, y_train_sm.unsqueeze(1))\n",
    "\n",
    "# summarize results\n",
    "print(\"Best: %f using %s\" % (grid_result.best_score_, grid_result.best_params_))\n",
    "means = grid_result.cv_results_['mean_test_score']\n",
    "stds = grid_result.cv_results_['std_test_score']\n",
    "params = grid_result.cv_results_['params']\n",
    "for mean, stdev, param in zip(means, stds, params):\n",
    "    print(\"%f (%f) with: %r\" % (mean, stdev, param))"
   ]
  },
  {
   "cell_type": "code",
   "execution_count": 35,
   "id": "081a5f29-b55e-47b1-98d1-fdfb4b4b3e38",
   "metadata": {},
   "outputs": [],
   "source": [
    "import numpy as np\n",
    "import torch\n",
    "import torch.nn as nn\n",
    "import torch.nn.init as init\n",
    "import torch.optim as optim\n",
    "from skorch import NeuralNetClassifier\n",
    "from sklearn.model_selection import GridSearchCV"
   ]
  },
  {
   "cell_type": "code",
   "execution_count": 36,
   "id": "7043bc64-4e58-40ef-aa28-161241c7f1b0",
   "metadata": {},
   "outputs": [
    {
     "name": "stdout",
     "output_type": "stream",
     "text": [
      "Best: 0.709321 using {'module__n_neurons': 500}\n",
      "0.708235 (0.006461) with: {'module__n_neurons': 20}\n",
      "0.709273 (0.006934) with: {'module__n_neurons': 100}\n",
      "0.709321 (0.005270) with: {'module__n_neurons': 500}\n"
     ]
    }
   ],
   "source": [
    "# tune number of neurons in the hidden layer -- 4563 sec\n",
    "class PimaClassifier(nn.Module):\n",
    "    def __init__(self, n_neurons=50):\n",
    "        super().__init__()\n",
    "        self.layer = nn.Linear(23, n_neurons)\n",
    "        self.act = nn.ReLU()\n",
    "        self.dropout = nn.Dropout(0.1)\n",
    "        self.output = nn.Linear(n_neurons, 1)\n",
    "        self.prob = nn.Sigmoid()\n",
    "        self.weight_constraint = 2.0\n",
    "        # manually init weights\n",
    "        init.kaiming_uniform_(self.layer.weight)\n",
    "        init.kaiming_uniform_(self.output.weight)\n",
    "\n",
    "    def forward(self, x):\n",
    "        # maxnorm weight before actual forward pass\n",
    "        with torch.no_grad():\n",
    "            norm = self.layer.weight.norm(2, dim=0, keepdim=True).clamp(min=self.weight_constraint / 2)\n",
    "            desired = torch.clamp(norm, max=self.weight_constraint)\n",
    "            self.layer.weight *= (desired / norm)\n",
    "        # actual forward pass\n",
    "        x = self.act(self.layer(x))\n",
    "        x = self.dropout(x)\n",
    "        x = self.prob(self.output(x))\n",
    "        return x\n",
    "\n",
    "# create model with skorch\n",
    "model = NeuralNetClassifier(\n",
    "    PimaClassifier,\n",
    "    criterion=nn.BCELoss,\n",
    "    optimizer=optim.Adagrad,\n",
    "    max_epochs=1000,\n",
    "    batch_size=100,\n",
    "    verbose=False\n",
    ")\n",
    "\n",
    "# define the grid search parameters\n",
    "param_grid = {\n",
    "    'module__n_neurons': [20, 100, 500]\n",
    "}\n",
    "grid = GridSearchCV(estimator=model, param_grid=param_grid, n_jobs=-1, cv=5)\n",
    "grid_result = grid.fit(X_train_sm, y_train_sm.unsqueeze(1))\n",
    "\n",
    "# summarize results\n",
    "print(\"Best: %f using %s\" % (grid_result.best_score_, grid_result.best_params_))\n",
    "means = grid_result.cv_results_['mean_test_score']\n",
    "stds = grid_result.cv_results_['std_test_score']\n",
    "params = grid_result.cv_results_['params']\n",
    "for mean, stdev, param in zip(means, stds, params):\n",
    "    print(\"%f (%f) with: %r\" % (mean, stdev, param))"
   ]
  },
  {
   "cell_type": "code",
   "execution_count": 49,
   "id": "286d1a93-9986-4aa0-9b5f-cf220deffed5",
   "metadata": {},
   "outputs": [],
   "source": [
    "NN_pred_proba = grid_result.predict_proba(X_test)[:, 1]"
   ]
  },
  {
   "cell_type": "markdown",
   "id": "21c79d3c-5a94-42ac-bf21-5d475be97779",
   "metadata": {},
   "source": [
    "#### Best model\n",
    "model = NeuralNetClassifier(\n",
    "    PimaClassifier,\n",
    "    criterion=nn.BCELoss,\n",
    "    optimizer=optim.Adagrad,\n",
    "    max_epochs=1000,\n",
    "    batch_size=100,\n",
    "    verbose=False\n",
    ")\n",
    "\n",
    "+\n",
    "\n",
    "using {'module__n_neurons': 500}"
   ]
  },
  {
   "cell_type": "code",
   "execution_count": 39,
   "id": "2cb7b98b-78bc-4aed-9b65-e4356d5f1edc",
   "metadata": {},
   "outputs": [],
   "source": [
    "# saving the model\n",
    "NN_clf = grid_result\n",
    "import pickle\n",
    "filename = 'NNs_model.sav'\n",
    "pickle.dump(NN_clf, open(filename, 'wb'))"
   ]
  },
  {
   "cell_type": "code",
   "execution_count": 41,
   "id": "932f535b-0bcb-42bc-8474-c7b43c7f1867",
   "metadata": {},
   "outputs": [],
   "source": [
    "from sklearn.metrics import confusion_matrix, classification_report, roc_auc_score, roc_curve, plot_confusion_matrix"
   ]
  },
  {
   "cell_type": "code",
   "execution_count": 52,
   "id": "7a3bebd3-08a3-4f90-9b19-84f52d9dbbb3",
   "metadata": {},
   "outputs": [
    {
     "data": {
      "image/png": "[encoded data removed]",
      "text/plain": [
       "<Figure size 432x288 with 1 Axes>"
      ]
     },
     "metadata": {
      "needs_background": "light"
     },
     "output_type": "display_data"
    }
   ],
   "source": [
    "fpr, tpr, thresholds = roc_curve(y_test, NN_pred_proba)\n",
    "\n",
    "# Calculate the AUC ROC score for SVM\n",
    "auc_roc = roc_auc_score(y_test, NN_pred_proba)\n",
    "\n",
    "# Plot the ROC curve\n",
    "plt.plot(fpr, tpr, label=f'AUC ROC = {auc_roc:.5f}')\n",
    "plt.plot([0, 1], [0, 1], linestyle='--')\n",
    "plt.xlabel('False Positive Rate')\n",
    "plt.ylabel('True Positive Rate')\n",
    "plt.legend()\n",
    "plt.show()"
   ]
  },
  {
   "cell_type": "code",
   "execution_count": 54,
   "id": "4859d4e1-435a-4f05-bf46-22c67627ab6e",
   "metadata": {},
   "outputs": [
    {
     "name": "stderr",
     "output_type": "stream",
     "text": [
      "C:\\Users\\nasri\\anaconda3\\lib\\site-packages\\sklearn\\utils\\deprecation.py:87: FutureWarning: Function plot_confusion_matrix is deprecated; Function `plot_confusion_matrix` is deprecated in 1.0 and will be removed in 1.2. Use one of the class methods: ConfusionMatrixDisplay.from_predictions or ConfusionMatrixDisplay.from_estimator.\n",
      "  warnings.warn(msg, category=FutureWarning)\n"
     ]
    },
    {
     "data": {
      "text/plain": [
       "Text(0.5, 1.0, 'NNs')"
      ]
     },
     "execution_count": 54,
     "metadata": {},
     "output_type": "execute_result"
    },
    {
     "data": {
      "image/png": "[encoded data removed]",
      "text/plain": [
       "<Figure size 432x288 with 2 Axes>"
      ]
     },
     "metadata": {
      "needs_background": "light"
     },
     "output_type": "display_data"
    }
   ],
   "source": [
    "plt.figsize = (20, 14)\n",
    "plot_confusion_matrix(NN_clf, X_test, y_test)\n",
    "plt.title(\"NNs\")"
   ]
  },
  {
   "cell_type": "code",
   "execution_count": 55,
   "id": "71eda390-a174-4c4c-b25d-26ce3115eefa",
   "metadata": {},
   "outputs": [],
   "source": [
    "# PRC\n",
    "from sklearn.metrics import auc, precision_recall_curve\n",
    "precision, recall, thresholds = precision_recall_curve(y_test, NN_pred_proba)"
   ]
  },
  {
   "cell_type": "code",
   "execution_count": 56,
   "id": "4fb958af-c063-48dd-a4b5-3963a9ffec93",
   "metadata": {},
   "outputs": [],
   "source": [
    "# AUPRC\n",
    "auprc = auc(recall, precision)"
   ]
  },
  {
   "cell_type": "code",
   "execution_count": 57,
   "id": "ed26e273-208a-4695-8615-eee5ea106439",
   "metadata": {},
   "outputs": [
    {
     "data": {
      "image/png": "[encoded data removed]",
      "text/plain": [
       "<Figure size 432x288 with 1 Axes>"
      ]
     },
     "metadata": {
      "needs_background": "light"
     },
     "output_type": "display_data"
    }
   ],
   "source": [
    "# Plot the PRC\n",
    "plt.plot(recall, precision, label=f'AUPRC = {auprc:.5f}')\n",
    "plt.xlabel('Recall')\n",
    "plt.ylabel('Precision')\n",
    "plt.legend()\n",
    "plt.show()"
   ]
  },
  {
   "cell_type": "code",
   "execution_count": 58,
   "id": "bb75dc0b-f929-4960-b7c6-29aa318a43ef",
   "metadata": {},
   "outputs": [],
   "source": [
    "# another way to account for when denominator is zero\n",
    "numerator = 2 * recall * precision\n",
    "denom = recall + precision\n",
    "f1_scores = np.divide(numerator, denom, out=np.zeros_like(denom), where=(denom!=0))\n",
    "max_f1 = np.max(f1_scores)\n",
    "max_f1_thresh = thresholds[np.argmax(f1_scores)]"
   ]
  },
  {
   "cell_type": "code",
   "execution_count": 59,
   "id": "a9497f0c-6060-4e01-a552-44924e732301",
   "metadata": {},
   "outputs": [
    {
     "name": "stdout",
     "output_type": "stream",
     "text": [
      "Best threshold:  0.61284286\n",
      "Best F1-Score:  0.51973265436028\n"
     ]
    }
   ],
   "source": [
    "print('Best threshold: ', max_f1_thresh)\n",
    "print('Best F1-Score: ', max_f1)"
   ]
  },
  {
   "cell_type": "code",
   "execution_count": null,
   "id": "5a713026-edd8-460d-8220-059c863e0137",
   "metadata": {},
   "outputs": [],
   "source": []
  }
 ],
 "metadata": {
  "colab": {
   "provenance": []
  },
  "kernelspec": {
   "display_name": "Python 3 (ipykernel)",
   "language": "python",
   "name": "python3"
  },
  "language_info": {
   "codemirror_mode": {
    "name": "ipython",
    "version": 3
   },
   "file_extension": ".py",
   "mimetype": "text/x-python",
   "name": "python",
   "nbconvert_exporter": "python",
   "pygments_lexer": "ipython3",
   "version": "3.9.12"
  }
 },
 "nbformat": 4,
 "nbformat_minor": 5
}
