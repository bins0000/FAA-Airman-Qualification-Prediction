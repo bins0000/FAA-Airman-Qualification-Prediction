{
 "cells": [
  {
   "cell_type": "markdown",
   "id": "7f510689-4b93-4086-b25e-a85d99c92694",
   "metadata": {},
   "source": [
    "## This codes find the best SVM model"
   ]
  },
  {
   "cell_type": "markdown",
   "id": "d3c377aa-3648-40dd-ac54-b6e532ed781f",
   "metadata": {},
   "source": [
    "# Libraries"
   ]
  },
  {
   "cell_type": "code",
   "execution_count": 3,
   "id": "7f9773d3-4ad2-4989-b8c3-8609dbf1476e",
   "metadata": {},
   "outputs": [],
   "source": [
    "# load libaries\n",
    "import pandas as pd                  # for dataframe\n",
    "import numpy as np                   # for dealing with numpy\n",
    "import matplotlib.pyplot as plt      # for plots\n",
    "import seaborn as sns                # for statistical data visualization\n",
    "\n",
    "# a magic function that renders the figure in a notebook \n",
    "%matplotlib Inline\n",
    "\n",
    "# allow to display all columns of dataframe\n",
    "pd.set_option('display.max_columns', None)"
   ]
  },
  {
   "cell_type": "markdown",
   "id": "5ee11871-afd8-4f6f-8fe2-92a2fb716913",
   "metadata": {},
   "source": [
    "# Import Data"
   ]
  },
  {
   "cell_type": "code",
   "execution_count": 4,
   "id": "60c6355c-3114-4b71-b5af-52067c7f22cb",
   "metadata": {},
   "outputs": [
    {
     "data": {
      "text/html": [
       "<div>\n",
       "<style scoped>\n",
       "    .dataframe tbody tr th:only-of-type {\n",
       "        vertical-align: middle;\n",
       "    }\n",
       "\n",
       "    .dataframe tbody tr th {\n",
       "        vertical-align: top;\n",
       "    }\n",
       "\n",
       "    .dataframe thead th {\n",
       "        text-align: right;\n",
       "    }\n",
       "</style>\n",
       "<table border=\"1\" class=\"dataframe\">\n",
       "  <thead>\n",
       "    <tr style=\"text-align: right;\">\n",
       "      <th></th>\n",
       "      <th>ENROLID</th>\n",
       "      <th>AGE</th>\n",
       "      <th>SEX</th>\n",
       "      <th>I</th>\n",
       "      <th>II</th>\n",
       "      <th>III</th>\n",
       "      <th>IV</th>\n",
       "      <th>V</th>\n",
       "      <th>VI</th>\n",
       "      <th>VII</th>\n",
       "      <th>VIII</th>\n",
       "      <th>X</th>\n",
       "      <th>XI</th>\n",
       "      <th>XII</th>\n",
       "      <th>XIII</th>\n",
       "      <th>XIV</th>\n",
       "      <th>XV</th>\n",
       "      <th>XVI</th>\n",
       "      <th>XVII</th>\n",
       "      <th>XVIII</th>\n",
       "      <th>XIX</th>\n",
       "      <th>XX</th>\n",
       "      <th>XXI</th>\n",
       "      <th>XXII</th>\n",
       "      <th>LABEL</th>\n",
       "    </tr>\n",
       "  </thead>\n",
       "  <tbody>\n",
       "    <tr>\n",
       "      <th>0</th>\n",
       "      <td>571103</td>\n",
       "      <td>57</td>\n",
       "      <td>1</td>\n",
       "      <td>1</td>\n",
       "      <td>0</td>\n",
       "      <td>0</td>\n",
       "      <td>0</td>\n",
       "      <td>0</td>\n",
       "      <td>1</td>\n",
       "      <td>0</td>\n",
       "      <td>0</td>\n",
       "      <td>5</td>\n",
       "      <td>2</td>\n",
       "      <td>0</td>\n",
       "      <td>1</td>\n",
       "      <td>4</td>\n",
       "      <td>0</td>\n",
       "      <td>0</td>\n",
       "      <td>0</td>\n",
       "      <td>9</td>\n",
       "      <td>2</td>\n",
       "      <td>0</td>\n",
       "      <td>1</td>\n",
       "      <td>0</td>\n",
       "      <td>1</td>\n",
       "    </tr>\n",
       "    <tr>\n",
       "      <th>1</th>\n",
       "      <td>13452502</td>\n",
       "      <td>54</td>\n",
       "      <td>1</td>\n",
       "      <td>3</td>\n",
       "      <td>0</td>\n",
       "      <td>0</td>\n",
       "      <td>0</td>\n",
       "      <td>1</td>\n",
       "      <td>0</td>\n",
       "      <td>0</td>\n",
       "      <td>0</td>\n",
       "      <td>0</td>\n",
       "      <td>0</td>\n",
       "      <td>2</td>\n",
       "      <td>0</td>\n",
       "      <td>5</td>\n",
       "      <td>0</td>\n",
       "      <td>0</td>\n",
       "      <td>0</td>\n",
       "      <td>2</td>\n",
       "      <td>1</td>\n",
       "      <td>0</td>\n",
       "      <td>1</td>\n",
       "      <td>0</td>\n",
       "      <td>0</td>\n",
       "    </tr>\n",
       "    <tr>\n",
       "      <th>2</th>\n",
       "      <td>14357306</td>\n",
       "      <td>27</td>\n",
       "      <td>1</td>\n",
       "      <td>0</td>\n",
       "      <td>0</td>\n",
       "      <td>0</td>\n",
       "      <td>0</td>\n",
       "      <td>2</td>\n",
       "      <td>0</td>\n",
       "      <td>0</td>\n",
       "      <td>0</td>\n",
       "      <td>0</td>\n",
       "      <td>0</td>\n",
       "      <td>0</td>\n",
       "      <td>0</td>\n",
       "      <td>0</td>\n",
       "      <td>0</td>\n",
       "      <td>0</td>\n",
       "      <td>0</td>\n",
       "      <td>0</td>\n",
       "      <td>0</td>\n",
       "      <td>0</td>\n",
       "      <td>0</td>\n",
       "      <td>0</td>\n",
       "      <td>1</td>\n",
       "    </tr>\n",
       "    <tr>\n",
       "      <th>3</th>\n",
       "      <td>14828304</td>\n",
       "      <td>16</td>\n",
       "      <td>2</td>\n",
       "      <td>0</td>\n",
       "      <td>0</td>\n",
       "      <td>0</td>\n",
       "      <td>0</td>\n",
       "      <td>0</td>\n",
       "      <td>3</td>\n",
       "      <td>0</td>\n",
       "      <td>0</td>\n",
       "      <td>0</td>\n",
       "      <td>0</td>\n",
       "      <td>0</td>\n",
       "      <td>1</td>\n",
       "      <td>2</td>\n",
       "      <td>0</td>\n",
       "      <td>0</td>\n",
       "      <td>1</td>\n",
       "      <td>3</td>\n",
       "      <td>2</td>\n",
       "      <td>0</td>\n",
       "      <td>2</td>\n",
       "      <td>0</td>\n",
       "      <td>0</td>\n",
       "    </tr>\n",
       "    <tr>\n",
       "      <th>4</th>\n",
       "      <td>15194602</td>\n",
       "      <td>59</td>\n",
       "      <td>2</td>\n",
       "      <td>0</td>\n",
       "      <td>1</td>\n",
       "      <td>0</td>\n",
       "      <td>0</td>\n",
       "      <td>0</td>\n",
       "      <td>0</td>\n",
       "      <td>0</td>\n",
       "      <td>0</td>\n",
       "      <td>1</td>\n",
       "      <td>0</td>\n",
       "      <td>0</td>\n",
       "      <td>0</td>\n",
       "      <td>0</td>\n",
       "      <td>0</td>\n",
       "      <td>0</td>\n",
       "      <td>0</td>\n",
       "      <td>1</td>\n",
       "      <td>0</td>\n",
       "      <td>0</td>\n",
       "      <td>7</td>\n",
       "      <td>0</td>\n",
       "      <td>0</td>\n",
       "    </tr>\n",
       "  </tbody>\n",
       "</table>\n",
       "</div>"
      ],
      "text/plain": [
       "    ENROLID  AGE  SEX  I  II  III  IV  V  VI  VII  VIII  X  XI  XII  XIII  \\\n",
       "0    571103   57    1  1   0    0   0  0   1    0     0  5   2    0     1   \n",
       "1  13452502   54    1  3   0    0   0  1   0    0     0  0   0    2     0   \n",
       "2  14357306   27    1  0   0    0   0  2   0    0     0  0   0    0     0   \n",
       "3  14828304   16    2  0   0    0   0  0   3    0     0  0   0    0     1   \n",
       "4  15194602   59    2  0   1    0   0  0   0    0     0  1   0    0     0   \n",
       "\n",
       "   XIV  XV  XVI  XVII  XVIII  XIX  XX  XXI  XXII  LABEL  \n",
       "0    4   0    0     0      9    2   0    1     0      1  \n",
       "1    5   0    0     0      2    1   0    1     0      0  \n",
       "2    0   0    0     0      0    0   0    0     0      1  \n",
       "3    2   0    0     1      3    2   0    2     0      0  \n",
       "4    0   0    0     0      1    0   0    7     0      0  "
      ]
     },
     "execution_count": 4,
     "metadata": {},
     "output_type": "execute_result"
    }
   ],
   "source": [
    "# Import data\n",
    "df = pd.read_csv('df19_20.csv')\n",
    "df.head()"
   ]
  },
  {
   "cell_type": "markdown",
   "id": "7ba330f5-7ed2-4326-aedc-aca45b0b50fe",
   "metadata": {},
   "source": [
    "# Import Sklearn Packages"
   ]
  },
  {
   "cell_type": "code",
   "execution_count": 5,
   "id": "e2f31b74-ea43-4925-976d-7341ef62832c",
   "metadata": {},
   "outputs": [],
   "source": [
    "from sklearn.model_selection import train_test_split   # even though this is usually used for train-test split, I am using it to sample the data for now to have stratified sampling\n",
    "from sklearn.preprocessing import MinMaxScaler         # to normalize data"
   ]
  },
  {
   "cell_type": "markdown",
   "id": "5e69b91a-e324-4652-a8bf-8c9cf4bdebb2",
   "metadata": {},
   "source": [
    "# Split Data\n",
    "\n",
    "### double check and use the same Random State for all the models and SMOTE"
   ]
  },
  {
   "cell_type": "code",
   "execution_count": 6,
   "id": "e5d033f5-722b-4177-94b2-d7e14ee90aa1",
   "metadata": {},
   "outputs": [],
   "source": [
    "# Set Input Variables and Target Variable\n",
    "X = df.drop(columns = ['ENROLID', 'LABEL'], axis = 1)\n",
    "y = df['LABEL']"
   ]
  },
  {
   "cell_type": "code",
   "execution_count": 7,
   "id": "ee02eb74-32ad-4204-b979-c455c6c46285",
   "metadata": {},
   "outputs": [],
   "source": [
    "# use train_test_split function to split data into training and testing data\n",
    "X_train, X_test, y_train, y_test = train_test_split(X, y, test_size=0.3, random_state=1, stratify=y)"
   ]
  },
  {
   "cell_type": "code",
   "execution_count": 8,
   "id": "7ba3c741-85ee-4443-aa82-cd2bdce41ac4",
   "metadata": {},
   "outputs": [
    {
     "data": {
      "text/plain": [
       "Text(0.5, 1.0, 'Class Distribution')"
      ]
     },
     "execution_count": 8,
     "metadata": {},
     "output_type": "execute_result"
    },
    {
     "data": {
      "image/png": "[encoded data removed]",
      "text/plain": [
       "<Figure size 720x504 with 1 Axes>"
      ]
     },
     "metadata": {
      "needs_background": "light"
     },
     "output_type": "display_data"
    }
   ],
   "source": [
    "# label frequency\n",
    "plt.figure(figsize=(10, 7))\n",
    "ax = y_train.value_counts().plot.bar()\n",
    "ax.set_title('Class Distribution')"
   ]
  },
  {
   "cell_type": "markdown",
   "id": "f2ba98e0-b795-46ae-95d3-a8077183a5ab",
   "metadata": {},
   "source": [
    "## Normalize data"
   ]
  },
  {
   "cell_type": "code",
   "execution_count": 9,
   "id": "76138624-6b3d-409f-934b-273655a59195",
   "metadata": {},
   "outputs": [],
   "source": [
    "# normalize data\n",
    "scaler = MinMaxScaler()\n",
    "X_train = scaler.fit_transform(X_train)\n",
    "X_test = scaler.fit_transform(X_test)"
   ]
  },
  {
   "cell_type": "markdown",
   "id": "9f896580-4dfe-40c5-93e2-fd90f38bc1ee",
   "metadata": {},
   "source": [
    "# Import SMOTE"
   ]
  },
  {
   "cell_type": "markdown",
   "id": "38f49d38-6c42-4fc7-9b76-ad6a5acabf3b",
   "metadata": {},
   "source": [
    "https://imbalanced-learn.org/stable/references/generated/imblearn.over_sampling.SMOTE.html"
   ]
  },
  {
   "cell_type": "code",
   "execution_count": 11,
   "id": "a6ae9077-6cb2-41fa-88b1-1d83035d3efd",
   "metadata": {},
   "outputs": [
    {
     "name": "stdout",
     "output_type": "stream",
     "text": [
      "Requirement already satisfied: imblearn in c:\\users\\nasri\\anaconda3\\lib\\site-packages (0.0)\n",
      "Requirement already satisfied: imbalanced-learn in c:\\users\\nasri\\anaconda3\\lib\\site-packages (from imblearn) (0.10.1)\n",
      "Requirement already satisfied: scipy>=1.3.2 in c:\\users\\nasri\\anaconda3\\lib\\site-packages (from imbalanced-learn->imblearn) (1.7.3)\n",
      "Requirement already satisfied: threadpoolctl>=2.0.0 in c:\\users\\nasri\\anaconda3\\lib\\site-packages (from imbalanced-learn->imblearn) (2.2.0)\n",
      "Requirement already satisfied: numpy>=1.17.3 in c:\\users\\nasri\\anaconda3\\lib\\site-packages (from imbalanced-learn->imblearn) (1.22.4)\n",
      "Requirement already satisfied: joblib>=1.1.1 in c:\\users\\nasri\\anaconda3\\lib\\site-packages (from imbalanced-learn->imblearn) (1.2.0)\n",
      "Requirement already satisfied: scikit-learn>=1.0.2 in c:\\users\\nasri\\anaconda3\\lib\\site-packages (from imbalanced-learn->imblearn) (1.0.2)\n"
     ]
    }
   ],
   "source": [
    "# install first if using it first-time\n",
    "import sys\n",
    "!{sys.executable} -m pip install imblearn"
   ]
  },
  {
   "cell_type": "code",
   "execution_count": 12,
   "id": "2fa601c1-ad80-480f-9922-da22c33fe5f1",
   "metadata": {},
   "outputs": [],
   "source": [
    "# import SMOTE module from imblearn library\n",
    "# pip install imblearn (if you don't have imblearn in your system)\n",
    "from imblearn.over_sampling import SMOTE"
   ]
  },
  {
   "cell_type": "markdown",
   "id": "97824df6-2634-42aa-a118-0469615fb18b",
   "metadata": {},
   "source": [
    "# SMOTE to oversample the data"
   ]
  },
  {
   "cell_type": "code",
   "execution_count": 13,
   "id": "024c58aa-425b-43c8-ad41-87488c317122",
   "metadata": {},
   "outputs": [],
   "source": [
    "sm = SMOTE(random_state = 1)\n",
    "X_train_sm, y_train_sm = sm.fit_resample(X_train, y_train.ravel())"
   ]
  },
  {
   "cell_type": "code",
   "execution_count": 14,
   "id": "395ac094-31e2-4e4b-a65b-53a1ba9e5950",
   "metadata": {},
   "outputs": [
    {
     "data": {
      "text/plain": [
       "array([[0.859375  , 1.        , 0.        , ..., 0.        , 0.125     ,\n",
       "        0.        ],\n",
       "       [0.59375   , 0.        , 0.        , ..., 0.        , 0.        ,\n",
       "        0.        ],\n",
       "       [0.03125   , 0.        , 0.11111111, ..., 0.        , 0.        ,\n",
       "        0.        ],\n",
       "       ...,\n",
       "       [0.        , 0.        , 0.        , ..., 0.        , 0.08333333,\n",
       "        0.        ],\n",
       "       [0.69935198, 1.        , 0.        , ..., 0.        , 0.        ,\n",
       "        0.        ],\n",
       "       [0.87376186, 1.        , 0.        , ..., 0.        , 0.04166667,\n",
       "        0.        ]])"
      ]
     },
     "execution_count": 14,
     "metadata": {},
     "output_type": "execute_result"
    }
   ],
   "source": [
    "X_train_sm"
   ]
  },
  {
   "cell_type": "code",
   "execution_count": 15,
   "id": "8eb66856-396a-4010-bd83-a1b18726ea08",
   "metadata": {},
   "outputs": [
    {
     "data": {
      "text/plain": [
       "array([1, 0, 0, ..., 1, 1, 1], dtype=int64)"
      ]
     },
     "execution_count": 15,
     "metadata": {},
     "output_type": "execute_result"
    }
   ],
   "source": [
    "y_train_sm"
   ]
  },
  {
   "cell_type": "code",
   "execution_count": 16,
   "id": "6df8b799-3a41-41e4-8a6d-ce1783806097",
   "metadata": {},
   "outputs": [
    {
     "data": {
      "text/plain": [
       "([<matplotlib.axis.XTick at 0x24c8f0d3790>,\n",
       "  <matplotlib.axis.XTick at 0x24c8f0d3760>],\n",
       " [Text(0, 0, ''), Text(0, 0, '')])"
      ]
     },
     "execution_count": 16,
     "metadata": {},
     "output_type": "execute_result"
    },
    {
     "data": {
      "image/png": "[encoded data removed]",
      "text/plain": [
       "<Figure size 432x288 with 1 Axes>"
      ]
     },
     "metadata": {
      "needs_background": "light"
     },
     "output_type": "display_data"
    }
   ],
   "source": [
    "#search unique labels\n",
    "lebels = list(np.unique(y_train_sm))\n",
    "\n",
    "#count occurrences of each unique label\n",
    "lebel_count = list(np.unique(y_train_sm, return_counts=True)[1])\n",
    "\n",
    "# label frequency\n",
    "plt.bar(lebels, lebel_count, width = 0.5)\n",
    "plt.title('Class Distribution')\n",
    "\n",
    "import math\n",
    "new_list = range(math.floor(min(lebels)), math.ceil(max(lebels))+1)\n",
    "plt.xticks(new_list)"
   ]
  },
  {
   "cell_type": "markdown",
   "id": "7371199b-145c-4478-b1e4-aceee7387aaa",
   "metadata": {},
   "source": [
    "# Modelling"
   ]
  },
  {
   "cell_type": "markdown",
   "id": "3d29b015-3c2a-4ec8-a975-4cc3a9289693",
   "metadata": {},
   "source": [
    "# Neural Network"
   ]
  },
  {
   "cell_type": "code",
   "execution_count": 15,
   "id": "cbc260bf-ce0c-417c-91a7-9870cb961eab",
   "metadata": {},
   "outputs": [],
   "source": [
    "# Haixiao used tensorflow, but I still need to figure out how to get that to work"
   ]
  },
  {
   "cell_type": "markdown",
   "id": "3c7d6fe3-7714-4979-b0a9-4f5b0ab23dd7",
   "metadata": {},
   "source": [
    "### sklearn MLPClassifier"
   ]
  },
  {
   "cell_type": "code",
   "execution_count": 16,
   "id": "87438fc6-9145-48fc-a944-73086003a4d9",
   "metadata": {},
   "outputs": [],
   "source": [
    "from sklearn.neural_network import MLPClassifier\n",
    "# Class MLPClassifier implements a multi-layer perceptron (MLP) algorithm that trains using Backpropagation."
   ]
  },
  {
   "cell_type": "code",
   "execution_count": 17,
   "id": "49c82478-979d-421f-ad84-67f33479ce71",
   "metadata": {},
   "outputs": [],
   "source": [
    "NN_clf = MLPClassifier(solver='adam', alpha=1e-5, hidden_layer_sizes=(5, 2), random_state=1, max_iter=400)\n",
    "# Note: The default solver 'adam' works pretty well on relatively large datasets (with thousands of training samples or more)\n",
    "# max_iter=400 (default was at 200, which failed to converge)"
   ]
  },
  {
   "cell_type": "code",
   "execution_count": 18,
   "id": "74990c0f-d0f4-4c6d-9e62-baaaf7ff0f16",
   "metadata": {},
   "outputs": [
    {
     "data": {
      "text/plain": [
       "MLPClassifier(alpha=1e-05, hidden_layer_sizes=(5, 2), max_iter=400,\n",
       "              random_state=1)"
      ]
     },
     "execution_count": 18,
     "metadata": {},
     "output_type": "execute_result"
    }
   ],
   "source": [
    "NN_clf.fit(X_train_sm, y_train_sm)"
   ]
  },
  {
   "cell_type": "code",
   "execution_count": 19,
   "id": "5e51bd92-de42-4eb1-af85-e2b0424dee8a",
   "metadata": {},
   "outputs": [
    {
     "name": "stdout",
     "output_type": "stream",
     "text": [
      "model score: 0.708\n"
     ]
    }
   ],
   "source": [
    "print(\"model score: %.3f\" % NN_clf.score(X_test, y_test))"
   ]
  },
  {
   "cell_type": "code",
   "execution_count": 20,
   "id": "14b8eccc-24ca-48a8-a515-3b6e2535de55",
   "metadata": {},
   "outputs": [],
   "source": [
    "# try with array of different parameters"
   ]
  },
  {
   "cell_type": "markdown",
   "id": "de9b764d-b058-4b27-99f8-6fa216491be0",
   "metadata": {},
   "source": [
    "# SVM\n",
    "\n",
    "### This one is actually the best model for SVM so far (even after hyperparameter tuning later on)"
   ]
  },
  {
   "cell_type": "code",
   "execution_count": 21,
   "id": "5989c870-9ebc-47b7-90ec-3bf9c6c6bb69",
   "metadata": {},
   "outputs": [],
   "source": [
    "#Import svm model\n",
    "from sklearn import svm"
   ]
  },
  {
   "cell_type": "code",
   "execution_count": 22,
   "id": "8ee018f4-3ec0-4339-9140-b2abc8776fd1",
   "metadata": {},
   "outputs": [
    {
     "data": {
      "text/plain": [
       "SVC(probability=True)"
      ]
     },
     "execution_count": 22,
     "metadata": {},
     "output_type": "execute_result"
    }
   ],
   "source": [
    "#Create a svm Classifier\n",
    "# SVM_clf = svm.SVC(kernel='linear') # Linear Kernel\n",
    "SVM_clf = svm.SVC(probability=True) # probability=True\n",
    "#Train the model\n",
    "SVM_clf.fit(X_train_sm, y_train_sm)"
   ]
  },
  {
   "cell_type": "code",
   "execution_count": 23,
   "id": "c42720a6-2268-4876-b0d5-c43deaedf7cd",
   "metadata": {},
   "outputs": [
    {
     "name": "stdout",
     "output_type": "stream",
     "text": [
      "model score: 0.712\n"
     ]
    }
   ],
   "source": [
    "print(\"model score: %.3f\" % SVM_clf.score(X_test, y_test))"
   ]
  },
  {
   "cell_type": "code",
   "execution_count": null,
   "id": "70b049cc-e4e2-4cc0-8403-e3c96923e13f",
   "metadata": {},
   "outputs": [],
   "source": []
  },
  {
   "cell_type": "markdown",
   "id": "01334fb5-816b-4285-8c29-dba440c255c4",
   "metadata": {},
   "source": [
    "## Evaluate the Model"
   ]
  },
  {
   "cell_type": "code",
   "execution_count": 24,
   "id": "16930349-2f6b-4607-9f58-f58bbd2219a8",
   "metadata": {},
   "outputs": [],
   "source": [
    "from sklearn.metrics import classification_report, confusion_matrix\n",
    "from sklearn.metrics import accuracy_score, plot_confusion_matrix, roc_curve, auc\n",
    "from sklearn.metrics import f1_score, precision_score \n",
    "from sklearn import metrics"
   ]
  },
  {
   "cell_type": "code",
   "execution_count": 25,
   "id": "0ee05c9e-968a-4f73-9095-c7d57b9060a1",
   "metadata": {},
   "outputs": [],
   "source": [
    "# predict 2020 data\n",
    "NN_pred = NN_clf.predict(X_test)\n",
    "SVM_pred = SVM_clf.predict(X_test)"
   ]
  },
  {
   "cell_type": "code",
   "execution_count": 26,
   "id": "fdfcf6aa-5a99-46e2-9d10-ff5c4fa84bac",
   "metadata": {},
   "outputs": [
    {
     "name": "stdout",
     "output_type": "stream",
     "text": [
      "              precision    recall  f1-score   support\n",
      "\n",
      "           0       0.90      0.71      0.79      8880\n",
      "           1       0.41      0.72      0.52      2491\n",
      "\n",
      "    accuracy                           0.71     11371\n",
      "   macro avg       0.65      0.71      0.65     11371\n",
      "weighted avg       0.79      0.71      0.73     11371\n",
      "\n"
     ]
    }
   ],
   "source": [
    "# Classification Report\n",
    "print(classification_report(y_test, NN_pred))"
   ]
  },
  {
   "cell_type": "code",
   "execution_count": 27,
   "id": "a83bc533-1cb8-415c-abcf-c82179ef1ea6",
   "metadata": {},
   "outputs": [
    {
     "name": "stdout",
     "output_type": "stream",
     "text": [
      "              precision    recall  f1-score   support\n",
      "\n",
      "           0       0.90      0.71      0.79      8880\n",
      "           1       0.41      0.70      0.52      2491\n",
      "\n",
      "    accuracy                           0.71     11371\n",
      "   macro avg       0.65      0.71      0.66     11371\n",
      "weighted avg       0.79      0.71      0.73     11371\n",
      "\n"
     ]
    }
   ],
   "source": [
    "print(classification_report(y_test, SVM_pred))"
   ]
  },
  {
   "cell_type": "code",
   "execution_count": 28,
   "id": "9617bc5f-a5ba-4596-a7de-3e1c46e21713",
   "metadata": {},
   "outputs": [
    {
     "name": "stderr",
     "output_type": "stream",
     "text": [
      "C:\\Users\\nasri\\anaconda3\\lib\\site-packages\\sklearn\\utils\\deprecation.py:87: FutureWarning: Function plot_confusion_matrix is deprecated; Function `plot_confusion_matrix` is deprecated in 1.0 and will be removed in 1.2. Use one of the class methods: ConfusionMatrixDisplay.from_predictions or ConfusionMatrixDisplay.from_estimator.\n",
      "  warnings.warn(msg, category=FutureWarning)\n"
     ]
    },
    {
     "data": {
      "text/plain": [
       "Text(0.5, 1.0, 'Neural Network')"
      ]
     },
     "execution_count": 28,
     "metadata": {},
     "output_type": "execute_result"
    },
    {
     "data": {
      "image/png": "[encoded data removed]",
      "text/plain": [
       "<Figure size 432x288 with 2 Axes>"
      ]
     },
     "metadata": {
      "needs_background": "light"
     },
     "output_type": "display_data"
    }
   ],
   "source": [
    "plt.figsize = (20, 14)\n",
    "plot_confusion_matrix(NN_clf, X_test, y_test)\n",
    "plt.title(\"Neural Network\")"
   ]
  },
  {
   "cell_type": "code",
   "execution_count": 29,
   "id": "c27b764f-6335-4226-8f70-4159d433bc84",
   "metadata": {},
   "outputs": [
    {
     "name": "stderr",
     "output_type": "stream",
     "text": [
      "C:\\Users\\nasri\\anaconda3\\lib\\site-packages\\sklearn\\utils\\deprecation.py:87: FutureWarning: Function plot_confusion_matrix is deprecated; Function `plot_confusion_matrix` is deprecated in 1.0 and will be removed in 1.2. Use one of the class methods: ConfusionMatrixDisplay.from_predictions or ConfusionMatrixDisplay.from_estimator.\n",
      "  warnings.warn(msg, category=FutureWarning)\n"
     ]
    },
    {
     "data": {
      "text/plain": [
       "Text(0.5, 1.0, 'SVM')"
      ]
     },
     "execution_count": 29,
     "metadata": {},
     "output_type": "execute_result"
    },
    {
     "data": {
      "image/png": "[encoded data removed]",
      "text/plain": [
       "<Figure size 432x288 with 2 Axes>"
      ]
     },
     "metadata": {
      "needs_background": "light"
     },
     "output_type": "display_data"
    }
   ],
   "source": [
    "plt.figsize = (20, 14)\n",
    "plot_confusion_matrix(SVM_clf, X_test, y_test)\n",
    "plt.title(\"SVM\")"
   ]
  },
  {
   "cell_type": "code",
   "execution_count": 30,
   "id": "2475ff9b-2408-432f-9dc0-10e7571424b3",
   "metadata": {},
   "outputs": [
    {
     "name": "stdout",
     "output_type": "stream",
     "text": [
      "\n",
      "NN\n",
      "F1: 0.5183679395963409\n",
      "Precision: 0.40605095541401276\n",
      "\n",
      "SVM\n",
      "F1: 0.5165855816010615\n",
      "Precision: 0.4082013047530289\n"
     ]
    }
   ],
   "source": [
    "print(\"\\nNN\")\n",
    "print(\"F1:\", metrics.f1_score(y_test, NN_pred, labels=np.unique(NN_pred)))\n",
    "print(\"Precision:\", metrics.precision_score(y_test, NN_pred, labels=np.unique(NN_pred)))\n",
    "print(\"\\nSVM\")\n",
    "print(\"F1:\", metrics.f1_score(y_test, SVM_pred, labels=np.unique(SVM_pred)))\n",
    "print(\"Precision:\", metrics.precision_score(y_test, SVM_pred, labels=np.unique(SVM_pred)))"
   ]
  },
  {
   "cell_type": "code",
   "execution_count": 31,
   "id": "e62f7a22-8963-46ac-bac6-a5a0c5b02d57",
   "metadata": {},
   "outputs": [],
   "source": [
    "# look at sensitivity, precision, recall aucroc"
   ]
  },
  {
   "cell_type": "code",
   "execution_count": 32,
   "id": "3fba7b79-377a-4313-8b78-9fabc28fb3de",
   "metadata": {},
   "outputs": [],
   "source": [
    "from sklearn.metrics import confusion_matrix, classification_report, roc_auc_score, roc_curve"
   ]
  },
  {
   "cell_type": "code",
   "execution_count": 33,
   "id": "e7739533-9722-4b6b-881d-7a66e2e833d9",
   "metadata": {},
   "outputs": [],
   "source": [
    "# Calculate the probability ROC\n",
    "y_pred_proba = SVM_clf.predict_proba(X_test)[:, 1]"
   ]
  },
  {
   "cell_type": "code",
   "execution_count": 34,
   "id": "2a1b3531-16d2-42b4-a7f0-8c29cf3f4e8d",
   "metadata": {},
   "outputs": [],
   "source": [
    "fpr, tpr, thresholds = roc_curve(y_test, y_pred_proba)"
   ]
  },
  {
   "cell_type": "code",
   "execution_count": 35,
   "id": "8831f61f-2b75-4fe9-9f8b-f797bde98d3f",
   "metadata": {},
   "outputs": [],
   "source": [
    "# Calculate the AUC ROC score for SVM\n",
    "auc_roc = roc_auc_score(y_test, y_pred_proba)"
   ]
  },
  {
   "cell_type": "code",
   "execution_count": 36,
   "id": "12a90033-3e3a-40a9-bd74-b494797e2796",
   "metadata": {},
   "outputs": [
    {
     "data": {
      "image/png": "[encoded data removed]",
      "text/plain": [
       "<Figure size 432x288 with 1 Axes>"
      ]
     },
     "metadata": {
      "needs_background": "light"
     },
     "output_type": "display_data"
    }
   ],
   "source": [
    "# Plot the ROC curve\n",
    "plt.plot(fpr, tpr, label=f'AUC ROC = {auc_roc:.5f}')\n",
    "plt.plot([0, 1], [0, 1], linestyle='--')\n",
    "plt.xlabel('False Positive Rate')\n",
    "plt.ylabel('True Positive Rate')\n",
    "plt.legend()\n",
    "plt.show()"
   ]
  },
  {
   "cell_type": "code",
   "execution_count": 37,
   "id": "3fd53a62-b406-414d-88a8-f7ad2a49b31f",
   "metadata": {},
   "outputs": [
    {
     "data": {
      "text/plain": [
       "array([0.        , 0.        , 0.        , ..., 0.99808559, 0.99808559,\n",
       "       1.        ])"
      ]
     },
     "execution_count": 37,
     "metadata": {},
     "output_type": "execute_result"
    }
   ],
   "source": [
    "fpr"
   ]
  },
  {
   "cell_type": "code",
   "execution_count": 38,
   "id": "5a10e585-6113-41a3-b1f7-a87b2c8d61c1",
   "metadata": {},
   "outputs": [
    {
     "data": {
      "text/plain": [
       "array([0.00000000e+00, 4.01445203e-04, 2.40867122e-03, ...,\n",
       "       9.99197110e-01, 1.00000000e+00, 1.00000000e+00])"
      ]
     },
     "execution_count": 38,
     "metadata": {},
     "output_type": "execute_result"
    }
   ],
   "source": [
    "tpr"
   ]
  },
  {
   "cell_type": "code",
   "execution_count": 39,
   "id": "2d18707c-babd-4544-8f4f-88d3c27b5ad1",
   "metadata": {},
   "outputs": [
    {
     "data": {
      "text/plain": [
       "array([1.86304986, 0.86304986, 0.84962842, ..., 0.17851749, 0.17653598,\n",
       "       0.13316157])"
      ]
     },
     "execution_count": 39,
     "metadata": {},
     "output_type": "execute_result"
    }
   ],
   "source": [
    "thresholds"
   ]
  },
  {
   "cell_type": "code",
   "execution_count": 40,
   "id": "3b3150a6-04e3-43d5-b37e-43fd318fe085",
   "metadata": {},
   "outputs": [
    {
     "data": {
      "text/plain": [
       "array([0.3050451 , 0.31737577, 0.74213831, ..., 0.5195778 , 0.2413654 ,\n",
       "       0.21256475])"
      ]
     },
     "execution_count": 40,
     "metadata": {},
     "output_type": "execute_result"
    }
   ],
   "source": [
    "y_pred_proba"
   ]
  },
  {
   "cell_type": "code",
   "execution_count": 41,
   "id": "fc991a7a-5db8-44a1-a162-bea3df9935e7",
   "metadata": {},
   "outputs": [
    {
     "name": "stderr",
     "output_type": "stream",
     "text": [
      "C:\\Users\\nasri\\anaconda3\\lib\\site-packages\\sklearn\\utils\\deprecation.py:87: FutureWarning: Function plot_confusion_matrix is deprecated; Function `plot_confusion_matrix` is deprecated in 1.0 and will be removed in 1.2. Use one of the class methods: ConfusionMatrixDisplay.from_predictions or ConfusionMatrixDisplay.from_estimator.\n",
      "  warnings.warn(msg, category=FutureWarning)\n"
     ]
    },
    {
     "data": {
      "text/plain": [
       "Text(0.5, 1.0, 'SVM')"
      ]
     },
     "execution_count": 41,
     "metadata": {},
     "output_type": "execute_result"
    },
    {
     "data": {
      "image/png": "[encoded data removed]",
      "text/plain": [
       "<Figure size 432x288 with 2 Axes>"
      ]
     },
     "metadata": {
      "needs_background": "light"
     },
     "output_type": "display_data"
    }
   ],
   "source": [
    "plt.figsize = (20, 14)\n",
    "plot_confusion_matrix(SVM_clf, X_test, y_test)\n",
    "plt.title(\"SVM\")"
   ]
  },
  {
   "cell_type": "code",
   "execution_count": 42,
   "id": "4bfdae19-e2df-4c13-86a5-78c5c417556f",
   "metadata": {},
   "outputs": [
    {
     "name": "stdout",
     "output_type": "stream",
     "text": [
      "\n",
      "SVM\n",
      "F1: 0.5165855816010615\n",
      "Precision: 0.4082013047530289\n",
      "Recall: 0.7033319951826575\n"
     ]
    }
   ],
   "source": [
    "SVM_pred = SVM_clf.predict(X_test)\n",
    "print(\"\\nSVM\")\n",
    "print(\"F1:\", metrics.f1_score(y_test, SVM_pred, labels=np.unique(SVM_pred)))\n",
    "print(\"Precision:\", metrics.precision_score(y_test, SVM_pred, labels=np.unique(SVM_pred)))\n",
    "print(\"Recall:\", metrics.recall_score(y_test, SVM_pred, labels=np.unique(SVM_pred)))"
   ]
  },
  {
   "cell_type": "markdown",
   "id": "e42c0b3b-4028-4bba-abf4-d53004f5b8b0",
   "metadata": {},
   "source": [
    "# save the model"
   ]
  },
  {
   "cell_type": "code",
   "execution_count": 43,
   "id": "5abdd5c7-3733-482c-91ab-7f52750b0ab2",
   "metadata": {},
   "outputs": [],
   "source": [
    "import pickle\n",
    "filename = 'SVM_model.sav'\n",
    "pickle.dump(SVM_clf, open(filename, 'wb'))"
   ]
  },
  {
   "cell_type": "markdown",
   "id": "2b0ead35-f2a2-4b77-aa18-e12200d33ac9",
   "metadata": {},
   "source": [
    "# hyperparameter tuning with GridSearch"
   ]
  },
  {
   "cell_type": "code",
   "execution_count": 45,
   "id": "0bb8f742-56af-4a07-a89f-5fbaad1c981f",
   "metadata": {
    "tags": []
   },
   "outputs": [],
   "source": [
    "from sklearn.model_selection import GridSearchCV"
   ]
  },
  {
   "cell_type": "code",
   "execution_count": 46,
   "id": "fc0c6004-cbbc-440b-9968-2c874e359fdc",
   "metadata": {
    "tags": []
   },
   "outputs": [],
   "source": [
    "# Define the hyperparameters to tune\n",
    "# hyperparameters = {'C': [0.1, 1, 10, 100, 1000],\n",
    "#                    'kernel': ['linear', 'rbf', 'sigmoid'],\n",
    "#                    'degree': [0, 1, 2, 3, 4, 5, 6],\n",
    "#                    'gamma': [0.1, 1, 10, 100]}\n",
    "\n",
    "hyperparameters = {'C': [1],\n",
    "                   'kernel': ['rbf'],\n",
    "                   'degree': [1],\n",
    "                   'gamma': ['scale', 'auto']}\n",
    "\n",
    "# Create a Grid Search object with the SVM model and hyperparameters to tune\n",
    "grid_search = GridSearchCV(SVM_clf, hyperparameters, cv=5, return_train_score = True)"
   ]
  },
  {
   "cell_type": "code",
   "execution_count": 47,
   "id": "821bd0db-652d-45dd-9d48-572ad520a1ad",
   "metadata": {
    "tags": []
   },
   "outputs": [
    {
     "name": "stdout",
     "output_type": "stream",
     "text": [
      "Best hyperparameters found: {'C': 1, 'degree': 1, 'gamma': 'scale', 'kernel': 'rbf'}\n"
     ]
    },
    {
     "data": {
      "text/plain": [
       "SVC(C=1, degree=1, probability=True)"
      ]
     },
     "execution_count": 47,
     "metadata": {},
     "output_type": "execute_result"
    }
   ],
   "source": [
    "# Fit the Grid Search object to the training data\n",
    "grid_search.fit(X_train_sm, y_train_sm)\n",
    "\n",
    "# Print the best hyperparameters found\n",
    "print(f'Best hyperparameters found: {grid_search.best_params_}')\n",
    "\n",
    "# Train the model on the training set with the best hyperparameters\n",
    "SVM_best = svm.SVC(**grid_search.best_params_, probability=True)\n",
    "SVM_best.fit(X_train_sm, y_train_sm)"
   ]
  },
  {
   "cell_type": "code",
   "execution_count": null,
   "id": "4cff63e2-a4e5-4e7e-b00b-75e91bbd71bc",
   "metadata": {},
   "outputs": [],
   "source": [
    "# 8452 sec"
   ]
  },
  {
   "cell_type": "code",
   "execution_count": 48,
   "id": "9db11010-43f6-48e5-8e84-9bc9a13c2001",
   "metadata": {},
   "outputs": [],
   "source": [
    "# Calculate the probability ROC\n",
    "y_pred_proba_tuned = SVM_best.predict_proba(X_test)[:, 1]"
   ]
  },
  {
   "cell_type": "code",
   "execution_count": 49,
   "id": "006c81e1-afcc-472a-a3a8-1377fc4f0f54",
   "metadata": {},
   "outputs": [
    {
     "data": {
      "image/png": "[encoded data removed]",
      "text/plain": [
       "<Figure size 432x288 with 1 Axes>"
      ]
     },
     "metadata": {
      "needs_background": "light"
     },
     "output_type": "display_data"
    }
   ],
   "source": [
    "fpr, tpr, thresholds = roc_curve(y_test, y_pred_proba_tuned)\n",
    "\n",
    "# Calculate the AUC ROC score for SVM\n",
    "auc_roc = roc_auc_score(y_test, y_pred_proba_tuned)\n",
    "\n",
    "# Plot the ROC curve\n",
    "plt.plot(fpr, tpr, label=f'AUC ROC = {auc_roc:.5f}')\n",
    "plt.plot([0, 1], [0, 1], linestyle='--')\n",
    "plt.xlabel('False Positive Rate')\n",
    "plt.ylabel('True Positive Rate')\n",
    "plt.legend()\n",
    "plt.show()"
   ]
  },
  {
   "cell_type": "code",
   "execution_count": 50,
   "id": "1996fe34-39de-4006-ac1d-faa4936db8fd",
   "metadata": {},
   "outputs": [
    {
     "name": "stderr",
     "output_type": "stream",
     "text": [
      "C:\\Users\\nasri\\anaconda3\\lib\\site-packages\\sklearn\\utils\\deprecation.py:87: FutureWarning: Function plot_confusion_matrix is deprecated; Function `plot_confusion_matrix` is deprecated in 1.0 and will be removed in 1.2. Use one of the class methods: ConfusionMatrixDisplay.from_predictions or ConfusionMatrixDisplay.from_estimator.\n",
      "  warnings.warn(msg, category=FutureWarning)\n"
     ]
    },
    {
     "data": {
      "text/plain": [
       "Text(0.5, 1.0, 'SVM')"
      ]
     },
     "execution_count": 50,
     "metadata": {},
     "output_type": "execute_result"
    },
    {
     "data": {
      "image/png": "[encoded data removed]",
      "text/plain": [
       "<Figure size 432x288 with 2 Axes>"
      ]
     },
     "metadata": {
      "needs_background": "light"
     },
     "output_type": "display_data"
    }
   ],
   "source": [
    "plt.figsize = (20, 14)\n",
    "plot_confusion_matrix(SVM_best, X_test, y_test)\n",
    "plt.title(\"SVM\")"
   ]
  },
  {
   "cell_type": "code",
   "execution_count": null,
   "id": "f601ef52-327d-45c4-8c98-d564b3474a40",
   "metadata": {},
   "outputs": [],
   "source": []
  },
  {
   "cell_type": "code",
   "execution_count": 56,
   "id": "22762a96-1023-449c-bd94-d4f42e29453c",
   "metadata": {
    "tags": []
   },
   "outputs": [],
   "source": [
    "# Define the hyperparameters to tune\n",
    "# hyperparameters = {'C': [0.1, 1, 10, 100, 1000],\n",
    "#                    'kernel': ['linear', 'rbf', 'sigmoid'],\n",
    "#                    'degree': [0, 1, 2, 3, 4, 5, 6],\n",
    "#                    'gamma': [0.1, 1, 10, 100]}\n",
    "\n",
    "hyperparameters_2 = {'C': [0.1, 1, 10],\n",
    "                   'kernel': ['rbf'],\n",
    "                   'degree': [1],\n",
    "                   'gamma': ['scale']}\n",
    "\n",
    "# Create a Grid Search object with the SVM model and hyperparameters to tune\n",
    "grid_search_2 = GridSearchCV(SVM_clf, hyperparameters_2, cv=5, return_train_score = True)"
   ]
  },
  {
   "cell_type": "code",
   "execution_count": 57,
   "id": "d73efb85-eb97-4002-b26b-f224e76c9e10",
   "metadata": {
    "tags": []
   },
   "outputs": [
    {
     "name": "stdout",
     "output_type": "stream",
     "text": [
      "Best hyperparameters found: {'C': 1, 'degree': 1, 'gamma': 'scale', 'kernel': 'rbf'}\n"
     ]
    },
    {
     "data": {
      "text/plain": [
       "SVC(C=1, degree=1, probability=True)"
      ]
     },
     "execution_count": 57,
     "metadata": {},
     "output_type": "execute_result"
    }
   ],
   "source": [
    "# Fit the Grid Search object to the training data\n",
    "grid_search_2.fit(X_train_sm, y_train_sm)\n",
    "\n",
    "# Print the best hyperparameters found\n",
    "print(f'Best hyperparameters found: {grid_search_2.best_params_}')\n",
    "\n",
    "# Train the model on the training set with the best hyperparameters\n",
    "SVM_best_2 = svm.SVC(**grid_search_2.best_params_, probability=True)\n",
    "SVM_best_2.fit(X_train_sm, y_train_sm)"
   ]
  },
  {
   "cell_type": "code",
   "execution_count": null,
   "id": "b162a70f-1476-4563-97ac-de0d48638291",
   "metadata": {},
   "outputs": [],
   "source": [
    "# 7480 sec"
   ]
  },
  {
   "cell_type": "code",
   "execution_count": null,
   "id": "eec6e8dc-6899-40dc-97b0-e82d18949ed4",
   "metadata": {},
   "outputs": [],
   "source": []
  },
  {
   "cell_type": "code",
   "execution_count": 58,
   "id": "46487bb5-f6a5-4961-8037-48f1e38a412b",
   "metadata": {
    "tags": []
   },
   "outputs": [],
   "source": [
    "# Define the hyperparameters to tune\n",
    "# hyperparameters = {'C': [0.1, 1, 10, 100, 1000],\n",
    "#                    'kernel': ['linear', 'rbf', 'sigmoid'],\n",
    "#                    'degree': [0, 1, 2, 3, 4, 5, 6],\n",
    "#                    'gamma': [0.1, 1, 10, 100]}\n",
    "\n",
    "hyperparameters_3 = {'C': [1],\n",
    "                   'kernel': ['rbf'],\n",
    "                   'degree': [2, 4, 5],\n",
    "                   'gamma': ['scale']}\n",
    "\n",
    "# Create a Grid Search object with the SVM model and hyperparameters to tune\n",
    "grid_search_3 = GridSearchCV(SVM_clf, hyperparameters_3, cv=5, return_train_score = True)"
   ]
  },
  {
   "cell_type": "code",
   "execution_count": 59,
   "id": "b4de7ed9-82e1-4430-8a21-4410730de1b9",
   "metadata": {
    "tags": []
   },
   "outputs": [],
   "source": [
    "# Fit the Grid Search object to the training data\n",
    "grid_search_3.fit(X_train_sm, y_train_sm)"
   ]
  },
  {
   "cell_type": "code",
   "execution_count": 75,
   "id": "af0cf184-e2a8-4f04-a519-8143cba1522e",
   "metadata": {
    "tags": []
   },
   "outputs": [
    {
     "name": "stdout",
     "output_type": "stream",
     "text": [
      "Best hyperparameters found: {'C': 1, 'degree': 1, 'gamma': 'scale', 'kernel': 'rbf'}\n"
     ]
    }
   ],
   "source": [
    "# Print the best hyperparameters found\n",
    "print(f'Best hyperparameters found: {grid_search_3.best_params_}')"
   ]
  },
  {
   "cell_type": "code",
   "execution_count": null,
   "id": "f2514cae-c116-4ab5-8ff5-31edac23cdf9",
   "metadata": {
    "tags": []
   },
   "outputs": [],
   "source": [
    "# Train the model on the training set with the best hyperparameters\n",
    "SVM_best_3 = svm.SVC(**grid_search_3.best_params_, probability=True)\n",
    "SVM_best_3.fit(X_train_sm, y_train_sm)"
   ]
  },
  {
   "cell_type": "code",
   "execution_count": null,
   "id": "2b3aea81-ef1f-4215-b1f4-be50c2648dfb",
   "metadata": {},
   "outputs": [],
   "source": [
    "# 7498 sec"
   ]
  },
  {
   "cell_type": "code",
   "execution_count": 62,
   "id": "037a4760-a927-45b1-94af-3efc96071cb6",
   "metadata": {
    "tags": []
   },
   "outputs": [],
   "source": [
    "# Define the hyperparameters to tune\n",
    "# hyperparameters = {'C': [0.1, 1, 10, 100, 1000],\n",
    "#                    'kernel': ['linear', 'rbf', 'sigmoid'],\n",
    "#                    'degree': [0, 1, 2, 3, 4, 5, 6],\n",
    "#                    'gamma': [0.1, 1, 10, 100]}\n",
    "\n",
    "hyperparameters_4 = {'C': [1],\n",
    "                   'kernel': ['linear', 'rbf', 'sigmoid'],\n",
    "                   'degree': [1],\n",
    "                   'gamma': ['scale']}\n",
    "\n",
    "# Create a Grid Search object with the SVM model and hyperparameters to tune\n",
    "grid_search_4 = GridSearchCV(SVM_clf, hyperparameters_4, cv=5, return_train_score = True)"
   ]
  },
  {
   "cell_type": "code",
   "execution_count": 63,
   "id": "8f96da9f-7cc9-471a-8174-5b2963eb9372",
   "metadata": {
    "tags": []
   },
   "outputs": [
    {
     "name": "stdout",
     "output_type": "stream",
     "text": [
      "Best hyperparameters found: {'C': 1, 'degree': 1, 'gamma': 'scale', 'kernel': 'rbf'}\n"
     ]
    },
    {
     "data": {
      "text/plain": [
       "SVC(C=1, degree=1, probability=True)"
      ]
     },
     "execution_count": 63,
     "metadata": {},
     "output_type": "execute_result"
    }
   ],
   "source": [
    "# Fit the Grid Search object to the training data\n",
    "grid_search_4.fit(X_train_sm, y_train_sm)\n",
    "\n",
    "# Print the best hyperparameters found\n",
    "print(f'Best hyperparameters found: {grid_search_4.best_params_}')\n",
    "\n",
    "# Train the model on the training set with the best hyperparameters\n",
    "SVM_best_4 = svm.SVC(**grid_search_4.best_params_, probability=True)\n",
    "SVM_best_4.fit(X_train_sm, y_train_sm)"
   ]
  },
  {
   "cell_type": "code",
   "execution_count": null,
   "id": "f32561f7-a597-48a6-aebf-c9dd5be90650",
   "metadata": {},
   "outputs": [],
   "source": [
    "# 7565 sec"
   ]
  },
  {
   "cell_type": "code",
   "execution_count": 64,
   "id": "1d5d0ce8-6be0-4ce6-a6ab-34459fabce59",
   "metadata": {},
   "outputs": [],
   "source": [
    "# Calculate the probability ROC\n",
    "y_pred_proba_tuned_4 = SVM_best_4.predict_proba(X_test)[:, 1]"
   ]
  },
  {
   "cell_type": "code",
   "execution_count": 65,
   "id": "13680c8c-0101-428d-b197-0418c4683e1d",
   "metadata": {},
   "outputs": [
    {
     "data": {
      "image/png": "[encoded data removed]",
      "text/plain": [
       "<Figure size 432x288 with 1 Axes>"
      ]
     },
     "metadata": {
      "needs_background": "light"
     },
     "output_type": "display_data"
    }
   ],
   "source": [
    "fpr, tpr, thresholds = roc_curve(y_test, y_pred_proba_tuned_4)\n",
    "\n",
    "# Calculate the AUC ROC score for SVM\n",
    "auc_roc = roc_auc_score(y_test, y_pred_proba_tuned_4)\n",
    "\n",
    "# Plot the ROC curve\n",
    "plt.plot(fpr, tpr, label=f'AUC ROC = {auc_roc:.5f}')\n",
    "plt.plot([0, 1], [0, 1], linestyle='--')\n",
    "plt.xlabel('False Positive Rate')\n",
    "plt.ylabel('True Positive Rate')\n",
    "plt.legend()\n",
    "plt.show()"
   ]
  },
  {
   "cell_type": "code",
   "execution_count": 66,
   "id": "d8ce2eb3-c3d5-4bd8-af64-d186b7597a3f",
   "metadata": {},
   "outputs": [
    {
     "name": "stderr",
     "output_type": "stream",
     "text": [
      "C:\\Users\\nasri\\anaconda3\\lib\\site-packages\\sklearn\\utils\\deprecation.py:87: FutureWarning: Function plot_confusion_matrix is deprecated; Function `plot_confusion_matrix` is deprecated in 1.0 and will be removed in 1.2. Use one of the class methods: ConfusionMatrixDisplay.from_predictions or ConfusionMatrixDisplay.from_estimator.\n",
      "  warnings.warn(msg, category=FutureWarning)\n"
     ]
    },
    {
     "data": {
      "text/plain": [
       "Text(0.5, 1.0, 'SVM')"
      ]
     },
     "execution_count": 66,
     "metadata": {},
     "output_type": "execute_result"
    },
    {
     "data": {
      "image/png": "[encoded data removed]",
      "text/plain": [
       "<Figure size 432x288 with 2 Axes>"
      ]
     },
     "metadata": {
      "needs_background": "light"
     },
     "output_type": "display_data"
    }
   ],
   "source": [
    "plt.figsize = (20, 14)\n",
    "plot_confusion_matrix(SVM_best_4, X_test, y_test)\n",
    "plt.title(\"SVM\")"
   ]
  },
  {
   "cell_type": "code",
   "execution_count": 85,
   "id": "b8d74a9c-a50b-471e-8928-8bbc22848491",
   "metadata": {},
   "outputs": [],
   "source": [
    "# gridsearchCV\n",
    "hyperparameters_5 = {'C': [1],\n",
    "                   'kernel': ['rbf'],\n",
    "                   'degree': [2, 4, 5],\n",
    "                   'gamma': ['scale']}\n",
    "\n",
    "SVC = svm.SVC(probability=True) # probability=True\n",
    "grid_search_5 = GridSearchCV(SVC, hyperparameters_5, cv=5, return_train_score = True)"
   ]
  },
  {
   "cell_type": "code",
   "execution_count": null,
   "id": "c0883043-fe8b-4999-b8bf-cf1240c3f72d",
   "metadata": {},
   "outputs": [],
   "source": [
    "# Fit the Grid Search object to the training data\n",
    "grid_search_5.fit(X_train_sm, y_train_sm)"
   ]
  },
  {
   "cell_type": "code",
   "execution_count": 69,
   "id": "3d4efa1a-555d-487a-afb4-4e74a347d042",
   "metadata": {},
   "outputs": [
    {
     "name": "stdout",
     "output_type": "stream",
     "text": [
      "Best hyperparameters found: {'C': 1, 'degree': 2, 'gamma': 'scale', 'kernel': 'rbf'}\n"
     ]
    }
   ],
   "source": [
    "# Print the best hyperparameters found\n",
    "print(f'Best hyperparameters found: {grid_search_5.best_params_}')"
   ]
  },
  {
   "cell_type": "code",
   "execution_count": 70,
   "id": "efa1bf70-0ecf-4a99-ac1d-28f9607351f9",
   "metadata": {},
   "outputs": [
    {
     "data": {
      "text/plain": [
       "SVC(C=1, degree=2, probability=True)"
      ]
     },
     "execution_count": 70,
     "metadata": {},
     "output_type": "execute_result"
    }
   ],
   "source": [
    "# Train the model on the training set with the best hyperparameters\n",
    "SVM_best_5 = svm.SVC(**grid_search_5.best_params_, probability=True)\n",
    "SVM_best_5.fit(X_train_sm, y_train_sm)"
   ]
  },
  {
   "cell_type": "code",
   "execution_count": null,
   "id": "fb459686-b845-4046-b702-b605134ff5bc",
   "metadata": {},
   "outputs": [],
   "source": [
    "#12000 sec"
   ]
  },
  {
   "cell_type": "code",
   "execution_count": 71,
   "id": "79c841b5-08b4-4a9c-93dd-5d0968ef8deb",
   "metadata": {},
   "outputs": [],
   "source": [
    "# Calculate the probability ROC\n",
    "y_pred_proba_tuned_5 = SVM_best_5.predict_proba(X_test)[:, 1]"
   ]
  },
  {
   "cell_type": "code",
   "execution_count": 72,
   "id": "814deb98-cf49-4c13-926f-29c70737e2c2",
   "metadata": {},
   "outputs": [
    {
     "data": {
      "image/png": "[encoded data removed]",
      "text/plain": [
       "<Figure size 432x288 with 1 Axes>"
      ]
     },
     "metadata": {
      "needs_background": "light"
     },
     "output_type": "display_data"
    }
   ],
   "source": [
    "fpr, tpr, thresholds = roc_curve(y_test, y_pred_proba_tuned_5)\n",
    "\n",
    "# Calculate the AUC ROC score for SVM\n",
    "auc_roc = roc_auc_score(y_test, y_pred_proba_tuned_5)\n",
    "\n",
    "# Plot the ROC curve\n",
    "plt.plot(fpr, tpr, label=f'AUC ROC = {auc_roc:.5f}')\n",
    "plt.plot([0, 1], [0, 1], linestyle='--')\n",
    "plt.xlabel('False Positive Rate')\n",
    "plt.ylabel('True Positive Rate')\n",
    "plt.legend()\n",
    "plt.show()"
   ]
  },
  {
   "cell_type": "code",
   "execution_count": 73,
   "id": "4191b885-9052-4c07-98ab-3784172647d7",
   "metadata": {},
   "outputs": [
    {
     "name": "stderr",
     "output_type": "stream",
     "text": [
      "C:\\Users\\nasri\\anaconda3\\lib\\site-packages\\sklearn\\utils\\deprecation.py:87: FutureWarning: Function plot_confusion_matrix is deprecated; Function `plot_confusion_matrix` is deprecated in 1.0 and will be removed in 1.2. Use one of the class methods: ConfusionMatrixDisplay.from_predictions or ConfusionMatrixDisplay.from_estimator.\n",
      "  warnings.warn(msg, category=FutureWarning)\n"
     ]
    },
    {
     "data": {
      "text/plain": [
       "Text(0.5, 1.0, 'SVM')"
      ]
     },
     "execution_count": 73,
     "metadata": {},
     "output_type": "execute_result"
    },
    {
     "data": {
      "image/png": "[encoded data removed]",
      "text/plain": [
       "<Figure size 432x288 with 2 Axes>"
      ]
     },
     "metadata": {
      "needs_background": "light"
     },
     "output_type": "display_data"
    }
   ],
   "source": [
    "plt.figsize = (20, 14)\n",
    "plot_confusion_matrix(SVM_best_5, X_test, y_test)\n",
    "plt.title(\"SVM\")"
   ]
  },
  {
   "cell_type": "code",
   "execution_count": 87,
   "id": "dacd12af-c934-481c-8519-5b0a7c81a8bd",
   "metadata": {},
   "outputs": [],
   "source": [
    "# 6\n",
    "hyperparameters_6 = {'C': [0.1, 1, 10],\n",
    "                   'kernel': ['rbf'],\n",
    "                   'degree': [2],\n",
    "                   'gamma': ['scale']}\n",
    "SVC = svm.SVC(probability=True) # probability=True\n",
    "# Create a Grid Search object with the SVM model and hyperparameters to tune\n",
    "grid_search_6 = GridSearchCV(SVC, hyperparameters_6, cv=5, return_train_score = True)"
   ]
  },
  {
   "cell_type": "code",
   "execution_count": 88,
   "id": "f2ec3fd9-fa29-458a-9b81-c49e3c706339",
   "metadata": {},
   "outputs": [
    {
     "name": "stdout",
     "output_type": "stream",
     "text": [
      "Best hyperparameters found: {'C': 10, 'degree': 2, 'gamma': 'scale', 'kernel': 'rbf'}\n"
     ]
    }
   ],
   "source": [
    "# Fit the Grid Search object to the training data\n",
    "grid_search_6.fit(X_train_sm, y_train_sm)\n",
    "\n",
    "# Print the best hyperparameters found\n",
    "print(f'Best hyperparameters found: {grid_search_6.best_params_}')"
   ]
  },
  {
   "cell_type": "code",
   "execution_count": 89,
   "id": "d7bf992a-180e-463d-bd4e-e34382a8283f",
   "metadata": {},
   "outputs": [
    {
     "data": {
      "text/plain": [
       "SVC(C=10, degree=2, probability=True)"
      ]
     },
     "execution_count": 89,
     "metadata": {},
     "output_type": "execute_result"
    }
   ],
   "source": [
    "# Train the model on the training set with the best hyperparameters\n",
    "SVM_best_6 = svm.SVC(**grid_search_6.best_params_, probability=True)\n",
    "SVM_best_6.fit(X_train_sm, y_train_sm)"
   ]
  },
  {
   "cell_type": "code",
   "execution_count": 90,
   "id": "1740352b-9837-400c-b939-614f92b73093",
   "metadata": {},
   "outputs": [],
   "source": [
    "# Calculate the probability ROC\n",
    "y_pred_proba_tuned_6 = SVM_best_6.predict_proba(X_test)[:, 1]"
   ]
  },
  {
   "cell_type": "code",
   "execution_count": 91,
   "id": "994613bf-c99d-47db-91df-3e17bef0b474",
   "metadata": {},
   "outputs": [
    {
     "data": {
      "image/png": "[encoded data removed]",
      "text/plain": [
       "<Figure size 432x288 with 1 Axes>"
      ]
     },
     "metadata": {
      "needs_background": "light"
     },
     "output_type": "display_data"
    }
   ],
   "source": [
    "fpr, tpr, thresholds = roc_curve(y_test, y_pred_proba_tuned_6)\n",
    "\n",
    "# Calculate the AUC ROC score for SVM\n",
    "auc_roc = roc_auc_score(y_test, y_pred_proba_tuned_6)\n",
    "\n",
    "# Plot the ROC curve\n",
    "plt.plot(fpr, tpr, label=f'AUC ROC = {auc_roc:.5f}')\n",
    "plt.plot([0, 1], [0, 1], linestyle='--')\n",
    "plt.xlabel('False Positive Rate')\n",
    "plt.ylabel('True Positive Rate')\n",
    "plt.legend()\n",
    "plt.show()"
   ]
  },
  {
   "cell_type": "code",
   "execution_count": 92,
   "id": "fd586d3c-8422-4c7a-934a-661132a0d2d5",
   "metadata": {},
   "outputs": [
    {
     "name": "stderr",
     "output_type": "stream",
     "text": [
      "C:\\Users\\nasri\\anaconda3\\lib\\site-packages\\sklearn\\utils\\deprecation.py:87: FutureWarning: Function plot_confusion_matrix is deprecated; Function `plot_confusion_matrix` is deprecated in 1.0 and will be removed in 1.2. Use one of the class methods: ConfusionMatrixDisplay.from_predictions or ConfusionMatrixDisplay.from_estimator.\n",
      "  warnings.warn(msg, category=FutureWarning)\n"
     ]
    },
    {
     "data": {
      "text/plain": [
       "Text(0.5, 1.0, 'SVM')"
      ]
     },
     "execution_count": 92,
     "metadata": {},
     "output_type": "execute_result"
    },
    {
     "data": {
      "image/png": "[encoded data removed]",
      "text/plain": [
       "<Figure size 432x288 with 2 Axes>"
      ]
     },
     "metadata": {
      "needs_background": "light"
     },
     "output_type": "display_data"
    }
   ],
   "source": [
    "plt.figsize = (20, 14)\n",
    "plot_confusion_matrix(SVM_best_6, X_test, y_test)\n",
    "plt.title(\"SVM\")"
   ]
  },
  {
   "cell_type": "code",
   "execution_count": 98,
   "id": "30bb160e-e8c5-4c90-b43d-de653849c079",
   "metadata": {},
   "outputs": [],
   "source": [
    "# PRC\n",
    "from sklearn.metrics import auc, precision_recall_curve\n",
    "precision6, recall6, thresholds6 = precision_recall_curve(y_test, y_pred_proba_tuned_6)"
   ]
  },
  {
   "cell_type": "code",
   "execution_count": 101,
   "id": "e222b4f9-59b2-454d-a7b6-052c303827e8",
   "metadata": {},
   "outputs": [],
   "source": [
    "# AUPRC\n",
    "auprc = auc(recall6, precision6)"
   ]
  },
  {
   "cell_type": "code",
   "execution_count": 102,
   "id": "12ea88bd-fa5d-4ed0-9fe6-1efae77e9abb",
   "metadata": {},
   "outputs": [
    {
     "data": {
      "image/png": "[encoded data removed]",
      "text/plain": [
       "<Figure size 432x288 with 1 Axes>"
      ]
     },
     "metadata": {
      "needs_background": "light"
     },
     "output_type": "display_data"
    }
   ],
   "source": [
    "# Plot the PRC\n",
    "plt.plot(recall6, precision6, label=f'AUPRC = {auprc:.5f}')\n",
    "plt.xlabel('Recall')\n",
    "plt.ylabel('Precision')\n",
    "plt.legend()\n",
    "plt.show()"
   ]
  },
  {
   "cell_type": "code",
   "execution_count": 105,
   "id": "01e62fd0-35d4-42a3-ac7f-b1fad69f28a2",
   "metadata": {},
   "outputs": [
    {
     "name": "stdout",
     "output_type": "stream",
     "text": [
      "Best threshold:  0.9453023105777474\n",
      "Best F1-Score:  nan\n"
     ]
    },
    {
     "name": "stderr",
     "output_type": "stream",
     "text": [
      "C:\\Users\\nasri\\AppData\\Local\\Temp\\ipykernel_1392\\422139283.py:2: RuntimeWarning: invalid value encountered in true_divide\n",
      "  f1_scores = (2*recall6*precision6)/(recall6+precision6)\n"
     ]
    }
   ],
   "source": [
    "# find max f1 score\n",
    "f1_scores = (2*recall6*precision6)/(recall6+precision6)\n",
    "print('Best threshold: ', thresholds6[np.argmax(f1_scores)])\n",
    "print('Best F1-Score: ', np.max(f1_scores))"
   ]
  },
  {
   "cell_type": "code",
   "execution_count": 110,
   "id": "a679e1a6-2d9b-4a3c-8b03-6d1199207fba",
   "metadata": {},
   "outputs": [],
   "source": [
    "# another way to account for when denominator is zero\n",
    "numerator = 2 * recall6 * precision6\n",
    "denom = recall6 + precision6\n",
    "f1_scores = np.divide(numerator, denom, out=np.zeros_like(denom), where=(denom!=0))\n",
    "max_f1 = np.max(f1_scores)\n",
    "max_f1_thresh = thresholds6[np.argmax(f1_scores)]"
   ]
  },
  {
   "cell_type": "code",
   "execution_count": 113,
   "id": "683395a6-fae9-4fb9-a648-8b7742f9c0a6",
   "metadata": {},
   "outputs": [
    {
     "name": "stdout",
     "output_type": "stream",
     "text": [
      "Best threshold:  0.5245120291771758\n",
      "Best F1-Score:  0.5113446017968631\n"
     ]
    }
   ],
   "source": [
    "print('Best threshold: ', max_f1_thresh)\n",
    "print('Best F1-Score: ', max_f1)"
   ]
  },
  {
   "cell_type": "code",
   "execution_count": 114,
   "id": "90013e25-019a-45b2-b0b7-b4e6918b507f",
   "metadata": {},
   "outputs": [],
   "source": [
    "# 7\n",
    "hyperparameters_7 = {'C': [10],\n",
    "                   'kernel': ['poly'],\n",
    "                   'degree': [1,2,3,4],\n",
    "                   'gamma': ['scale']}\n",
    "SVC = svm.SVC(probability=True) # probability=True\n",
    "# Create a Grid Search object with the SVM model and hyperparameters to tune\n",
    "grid_search_7 = GridSearchCV(SVC, hyperparameters_7, cv=5, return_train_score = True)"
   ]
  },
  {
   "cell_type": "code",
   "execution_count": null,
   "id": "0971e546-f32c-4421-bdb6-afde4b128f11",
   "metadata": {},
   "outputs": [],
   "source": [
    "# Fit the Grid Search object to the training data\n",
    "grid_search_7.fit(X_train_sm, y_train_sm)\n",
    "\n",
    "# Print the best hyperparameters found\n",
    "print(f'Best hyperparameters found: {grid_search_7.best_params_}')"
   ]
  },
  {
   "cell_type": "code",
   "execution_count": null,
   "id": "df424916-7e86-4611-8399-e285ad9cefd4",
   "metadata": {},
   "outputs": [],
   "source": [
    "# Train the model on the training set with the best hyperparameters\n",
    "SVM_best_7 = svm.SVC(**grid_search_7.best_params_, probability=True)\n",
    "SVM_best_7.fit(X_train_sm, y_train_sm)"
   ]
  },
  {
   "cell_type": "code",
   "execution_count": null,
   "id": "1f920603-52c1-4f8c-a091-f714cee2b36a",
   "metadata": {},
   "outputs": [],
   "source": [
    "# "
   ]
  },
  {
   "cell_type": "markdown",
   "id": "094ea97a-6619-43fa-bf27-03363e0bf3a9",
   "metadata": {
    "tags": []
   },
   "source": [
    "# trying the final 2 SVCs\n",
    "## this is after all the hyperparameter tunings, and the best two are evaluated. \n",
    "#### 1: C = 10, kernel = 'poly', degree = 3, gamma = 'scale',probability=True\n",
    "#### 2: C = 10, kernel = 'rbf', gamma = 'scale',probability=True"
   ]
  },
  {
   "cell_type": "code",
   "execution_count": 18,
   "id": "2859777c-431e-49dc-bad5-06132e8491b5",
   "metadata": {},
   "outputs": [],
   "source": [
    "#Import svm model\n",
    "from sklearn import svm"
   ]
  },
  {
   "cell_type": "code",
   "execution_count": 19,
   "id": "6c4f410d-1c91-460f-b21b-ddd0b87aa234",
   "metadata": {},
   "outputs": [
    {
     "data": {
      "text/plain": [
       "SVC(C=10, kernel='poly', probability=True)"
      ]
     },
     "execution_count": 19,
     "metadata": {},
     "output_type": "execute_result"
    }
   ],
   "source": [
    "#Create a svm Classifier  with poly kernel\n",
    "SVM_clf = svm.SVC(C = 10, kernel = 'poly', degree = 3, gamma = 'scale',probability=True) # probability=True\n",
    "#Train the model  #725 sec\n",
    "SVM_clf.fit(X_train_sm, y_train_sm)"
   ]
  },
  {
   "cell_type": "code",
   "execution_count": 25,
   "id": "05eae4e6-de7e-4693-aac5-26b068f5314b",
   "metadata": {},
   "outputs": [],
   "source": [
    "from sklearn.metrics import confusion_matrix, classification_report, roc_auc_score, roc_curve, plot_confusion_matrix"
   ]
  },
  {
   "cell_type": "code",
   "execution_count": 20,
   "id": "c0b6b8a3-0c26-402a-a931-4176e4f276bf",
   "metadata": {},
   "outputs": [],
   "source": [
    "# Calculate the probability ROC\n",
    "y_pred_proba_poly = SVM_clf.predict_proba(X_test)[:, 1]"
   ]
  },
  {
   "cell_type": "code",
   "execution_count": 23,
   "id": "895d2cd3-e701-435f-aeae-71bb547b9139",
   "metadata": {},
   "outputs": [
    {
     "data": {
      "image/png": "[encoded data removed]",
      "text/plain": [
       "<Figure size 432x288 with 1 Axes>"
      ]
     },
     "metadata": {
      "needs_background": "light"
     },
     "output_type": "display_data"
    }
   ],
   "source": [
    "fpr, tpr, thresholds = roc_curve(y_test, y_pred_proba_poly)\n",
    "\n",
    "# Calculate the AUC ROC score for SVM\n",
    "auc_roc = roc_auc_score(y_test, y_pred_proba_poly)\n",
    "\n",
    "# Plot the ROC curve\n",
    "plt.plot(fpr, tpr, label=f'AUC ROC = {auc_roc:.5f}')\n",
    "plt.plot([0, 1], [0, 1], linestyle='--')\n",
    "plt.xlabel('False Positive Rate')\n",
    "plt.ylabel('True Positive Rate')\n",
    "plt.legend()\n",
    "plt.show()"
   ]
  },
  {
   "cell_type": "code",
   "execution_count": 26,
   "id": "1286a70c-b9be-402a-9dc9-e7dea0d360ff",
   "metadata": {},
   "outputs": [
    {
     "name": "stderr",
     "output_type": "stream",
     "text": [
      "C:\\Users\\nasri\\anaconda3\\lib\\site-packages\\sklearn\\utils\\deprecation.py:87: FutureWarning: Function plot_confusion_matrix is deprecated; Function `plot_confusion_matrix` is deprecated in 1.0 and will be removed in 1.2. Use one of the class methods: ConfusionMatrixDisplay.from_predictions or ConfusionMatrixDisplay.from_estimator.\n",
      "  warnings.warn(msg, category=FutureWarning)\n"
     ]
    },
    {
     "data": {
      "text/plain": [
       "Text(0.5, 1.0, 'SVM')"
      ]
     },
     "execution_count": 26,
     "metadata": {},
     "output_type": "execute_result"
    },
    {
     "data": {
      "image/png": "[encoded data removed]",
      "text/plain": [
       "<Figure size 432x288 with 2 Axes>"
      ]
     },
     "metadata": {
      "needs_background": "light"
     },
     "output_type": "display_data"
    }
   ],
   "source": [
    "plt.figsize = (20, 14)\n",
    "plot_confusion_matrix(SVM_clf, X_test, y_test)\n",
    "plt.title(\"SVM\")"
   ]
  },
  {
   "cell_type": "code",
   "execution_count": 27,
   "id": "d839e377-2555-48c6-9338-612b6976a176",
   "metadata": {},
   "outputs": [],
   "source": [
    "# PRC\n",
    "from sklearn.metrics import auc, precision_recall_curve\n",
    "precision_poly, recall_poly, thresholds_poly = precision_recall_curve(y_test, y_pred_proba_poly)"
   ]
  },
  {
   "cell_type": "code",
   "execution_count": 28,
   "id": "befb525d-ea8d-4148-8b9d-c102f0587835",
   "metadata": {},
   "outputs": [],
   "source": [
    "# AUPRC\n",
    "auprc_poly = auc(recall_poly, precision_poly)"
   ]
  },
  {
   "cell_type": "code",
   "execution_count": 29,
   "id": "4a10062e-63ea-46ec-b417-6c49270ec2ed",
   "metadata": {},
   "outputs": [
    {
     "data": {
      "image/png": "[encoded data removed]",
      "text/plain": [
       "<Figure size 432x288 with 1 Axes>"
      ]
     },
     "metadata": {
      "needs_background": "light"
     },
     "output_type": "display_data"
    }
   ],
   "source": [
    "# Plot the PRC\n",
    "plt.plot(recall_poly, precision_poly, label=f'AUPRC = {auprc_poly:.5f}')\n",
    "plt.xlabel('Recall')\n",
    "plt.ylabel('Precision')\n",
    "plt.legend()\n",
    "plt.show()"
   ]
  },
  {
   "cell_type": "code",
   "execution_count": 31,
   "id": "452b61d0-9059-44b2-a0d7-03f0e3e70ded",
   "metadata": {},
   "outputs": [],
   "source": [
    "# another way to account for when denominator is zero\n",
    "numerator = 2 * recall_poly * precision_poly\n",
    "denom = recall_poly + precision_poly\n",
    "f1_scores = np.divide(numerator, denom, out=np.zeros_like(denom), where=(denom!=0))\n",
    "max_f1 = np.max(f1_scores)\n",
    "max_f1_thresh = thresholds_poly[np.argmax(f1_scores)]"
   ]
  },
  {
   "cell_type": "code",
   "execution_count": 32,
   "id": "e009cabf-a28a-4e5b-bee0-46ce2d6e50b8",
   "metadata": {},
   "outputs": [
    {
     "name": "stdout",
     "output_type": "stream",
     "text": [
      "Best threshold:  0.47070129828724866\n",
      "Best F1-Score:  0.5069196081480329\n"
     ]
    }
   ],
   "source": [
    "print('Best threshold: ', max_f1_thresh)\n",
    "print('Best F1-Score: ', max_f1)"
   ]
  },
  {
   "cell_type": "code",
   "execution_count": null,
   "id": "a3cc189b-7b4e-4893-9fe3-04083942ee73",
   "metadata": {},
   "outputs": [],
   "source": []
  },
  {
   "cell_type": "code",
   "execution_count": 33,
   "id": "74c83044-fbc8-409c-88ee-295a9fe1f9c3",
   "metadata": {},
   "outputs": [
    {
     "data": {
      "text/plain": [
       "SVC(C=10, probability=True)"
      ]
     },
     "execution_count": 33,
     "metadata": {},
     "output_type": "execute_result"
    }
   ],
   "source": [
    "#Create a svm Classifier with rbf kernel\n",
    "SVM_rbf = svm.SVC(C = 10, kernel = 'rbf', gamma = 'scale',probability=True) # probability=True\n",
    "#Train the model  #838 sec\n",
    "SVM_rbf.fit(X_train_sm, y_train_sm)"
   ]
  },
  {
   "cell_type": "code",
   "execution_count": 25,
   "id": "40fb9a8e-2b5f-4075-8953-4e8f997615e1",
   "metadata": {},
   "outputs": [],
   "source": [
    "from sklearn.metrics import confusion_matrix, classification_report, roc_auc_score, roc_curve, plot_confusion_matrix"
   ]
  },
  {
   "cell_type": "code",
   "execution_count": 34,
   "id": "2bb83f7c-b769-4fcd-8f5b-1d039bcd0237",
   "metadata": {},
   "outputs": [],
   "source": [
    "# Calculate the probability ROC\n",
    "y_pred_proba_rbf = SVM_rbf.predict_proba(X_test)[:, 1]"
   ]
  },
  {
   "cell_type": "code",
   "execution_count": 35,
   "id": "9f59fe85-907b-47bb-8454-5624032e4d6b",
   "metadata": {},
   "outputs": [
    {
     "data": {
      "image/png": "[encoded data removed]",
      "text/plain": [
       "<Figure size 432x288 with 1 Axes>"
      ]
     },
     "metadata": {
      "needs_background": "light"
     },
     "output_type": "display_data"
    }
   ],
   "source": [
    "fpr, tpr, thresholds = roc_curve(y_test, y_pred_proba_rbf)\n",
    "\n",
    "# Calculate the AUC ROC score for SVM\n",
    "auc_roc = roc_auc_score(y_test, y_pred_proba_rbf)\n",
    "\n",
    "# Plot the ROC curve\n",
    "plt.plot(fpr, tpr, label=f'AUC ROC = {auc_roc:.5f}')\n",
    "plt.plot([0, 1], [0, 1], linestyle='--')\n",
    "plt.xlabel('False Positive Rate')\n",
    "plt.ylabel('True Positive Rate')\n",
    "plt.legend()\n",
    "plt.show()"
   ]
  },
  {
   "cell_type": "code",
   "execution_count": 36,
   "id": "93c29d1c-683b-43d1-a3c2-aaa98a629a7f",
   "metadata": {},
   "outputs": [
    {
     "name": "stderr",
     "output_type": "stream",
     "text": [
      "C:\\Users\\nasri\\anaconda3\\lib\\site-packages\\sklearn\\utils\\deprecation.py:87: FutureWarning: Function plot_confusion_matrix is deprecated; Function `plot_confusion_matrix` is deprecated in 1.0 and will be removed in 1.2. Use one of the class methods: ConfusionMatrixDisplay.from_predictions or ConfusionMatrixDisplay.from_estimator.\n",
      "  warnings.warn(msg, category=FutureWarning)\n"
     ]
    },
    {
     "data": {
      "text/plain": [
       "Text(0.5, 1.0, 'SVM')"
      ]
     },
     "execution_count": 36,
     "metadata": {},
     "output_type": "execute_result"
    },
    {
     "data": {
      "image/png": "[encoded data removed]",
      "text/plain": [
       "<Figure size 432x288 with 2 Axes>"
      ]
     },
     "metadata": {
      "needs_background": "light"
     },
     "output_type": "display_data"
    }
   ],
   "source": [
    "plt.figsize = (20, 14)\n",
    "plot_confusion_matrix(SVM_rbf, X_test, y_test)\n",
    "plt.title(\"SVM\")"
   ]
  },
  {
   "cell_type": "code",
   "execution_count": 37,
   "id": "96b466f7-9286-4c9e-80ef-7f185b073160",
   "metadata": {},
   "outputs": [],
   "source": [
    "# PRC\n",
    "from sklearn.metrics import auc, precision_recall_curve\n",
    "precision_rbf, recall_rbf, thresholds_rbf = precision_recall_curve(y_test, y_pred_proba_rbf)"
   ]
  },
  {
   "cell_type": "code",
   "execution_count": 38,
   "id": "e8561e87-9f1a-4d27-8b45-2b454045935f",
   "metadata": {},
   "outputs": [],
   "source": [
    "# AUPRC\n",
    "auprc_rbf = auc(recall_rbf, precision_rbf)"
   ]
  },
  {
   "cell_type": "code",
   "execution_count": 39,
   "id": "1325bb75-8079-44f7-a70f-14e0d8b812c1",
   "metadata": {},
   "outputs": [
    {
     "data": {
      "image/png": "[encoded data removed]",
      "text/plain": [
       "<Figure size 432x288 with 1 Axes>"
      ]
     },
     "metadata": {
      "needs_background": "light"
     },
     "output_type": "display_data"
    }
   ],
   "source": [
    "# Plot the PRC\n",
    "plt.plot(recall_rbf, precision_rbf, label=f'AUPRC = {auprc_rbf:.5f}')\n",
    "plt.xlabel('Recall')\n",
    "plt.ylabel('Precision')\n",
    "plt.legend()\n",
    "plt.show()"
   ]
  },
  {
   "cell_type": "code",
   "execution_count": 40,
   "id": "9278b720-4699-4410-8139-fb78e503d377",
   "metadata": {},
   "outputs": [],
   "source": [
    "# another way to account for when denominator is zero\n",
    "numerator = 2 * recall_rbf * precision_rbf\n",
    "denom = recall_rbf + precision_rbf\n",
    "f1_scores = np.divide(numerator, denom, out=np.zeros_like(denom), where=(denom!=0))\n",
    "max_f1 = np.max(f1_scores)\n",
    "max_f1_thresh = thresholds_rbf[np.argmax(f1_scores)]"
   ]
  },
  {
   "cell_type": "code",
   "execution_count": 41,
   "id": "934849bb-429d-40cd-8cd6-edbf15db9869",
   "metadata": {},
   "outputs": [
    {
     "name": "stdout",
     "output_type": "stream",
     "text": [
      "Best threshold:  0.5242011694952975\n",
      "Best F1-Score:  0.5113446017968631\n"
     ]
    }
   ],
   "source": [
    "print('Best threshold: ', max_f1_thresh)\n",
    "print('Best F1-Score: ', max_f1)"
   ]
  },
  {
   "cell_type": "code",
   "execution_count": null,
   "id": "1ebe9a4a-c6e4-4fe5-add0-1659d51d0bcc",
   "metadata": {},
   "outputs": [],
   "source": []
  },
  {
   "cell_type": "code",
   "execution_count": 43,
   "id": "ab4f753d-2e48-4a5e-9a97-0a2ab2348ce1",
   "metadata": {},
   "outputs": [],
   "source": [
    "# loading library\n",
    "import pickle"
   ]
  },
  {
   "cell_type": "code",
   "execution_count": 44,
   "id": "46193a00-a370-46b5-a718-22e443b6a7ff",
   "metadata": {},
   "outputs": [],
   "source": [
    "# load saved model\n",
    "with open('SVM_model.sav' , 'rb') as f:\n",
    "    svm_clf = pickle.load(f)"
   ]
  },
  {
   "cell_type": "code",
   "execution_count": 45,
   "id": "c31c7bc3-2779-40f7-bf22-327f3b6172e4",
   "metadata": {},
   "outputs": [
    {
     "data": {
      "text/plain": [
       "array([0.3050451 , 0.31737577, 0.74213831, ..., 0.5195778 , 0.2413654 ,\n",
       "       0.21256475])"
      ]
     },
     "execution_count": 45,
     "metadata": {},
     "output_type": "execute_result"
    }
   ],
   "source": [
    "svm_clf.predict_proba(X_test)[:, 1]"
   ]
  },
  {
   "cell_type": "code",
   "execution_count": null,
   "id": "9c8f1c0f-1593-417a-836c-a1c1059d92fb",
   "metadata": {},
   "outputs": [],
   "source": []
  }
 ],
 "metadata": {
  "kernelspec": {
   "display_name": "Python 3 (ipykernel)",
   "language": "python",
   "name": "python3"
  },
  "language_info": {
   "codemirror_mode": {
    "name": "ipython",
    "version": 3
   },
   "file_extension": ".py",
   "mimetype": "text/x-python",
   "name": "python",
   "nbconvert_exporter": "python",
   "pygments_lexer": "ipython3",
   "version": "3.9.12"
  }
 },
 "nbformat": 4,
 "nbformat_minor": 5
}
