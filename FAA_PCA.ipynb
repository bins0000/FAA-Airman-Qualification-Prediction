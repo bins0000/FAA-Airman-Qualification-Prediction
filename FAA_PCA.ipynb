{
 "cells": [
  {
   "cell_type": "markdown",
   "id": "9b677c5d-0160-453a-a9ca-6e554e5c1de6",
   "metadata": {},
   "source": [
    "## Principal Component Analysis"
   ]
  },
  {
   "cell_type": "markdown",
   "id": "5e22076c-7fce-4fb1-9193-5ae8f1f26d45",
   "metadata": {},
   "source": [
    "##### Problem Statement: After transforming the raw data, we now have a dataset with 23 attributes. However, the high number of attributes might pose challenges due to potential complexity. To address this, we can explore dimensionality reduction techniques to identify the most significant features. One such method is Principal Component Analysis (PCA).\n",
    "\n",
    "##### By employing PCA, we aim to discover key features that can effectively distinguish individuals at risk of cardiovascular diseases from those who are not at risk. Additionally, reducing the dimensionality of the data through PCA could lead to faster model training times while preserving comparable performance."
   ]
  },
  {
   "cell_type": "markdown",
   "id": "74492280-a26f-40f1-9fb1-a1e56b5a62b4",
   "metadata": {},
   "source": [
    "### Libraries"
   ]
  },
  {
   "cell_type": "code",
   "execution_count": 1,
   "id": "4f2893ae-95f4-403f-904c-8ed3c941e490",
   "metadata": {},
   "outputs": [],
   "source": [
    "# load libaries\n",
    "import pandas as pd                  # for dataframe\n",
    "import numpy as np                   # for dealing with numpy\n",
    "import matplotlib.pyplot as plt      # for plots\n",
    "import seaborn as sns                # for statistical data visualization\n",
    "\n",
    "# a magic function that renders the figure in a notebook \n",
    "%matplotlib Inline\n",
    "\n",
    "# allow to display all columns of dataframe\n",
    "pd.set_option('display.max_columns', None)"
   ]
  },
  {
   "cell_type": "markdown",
   "id": "518ca25b-4aec-4f82-8b4b-b41c01675c36",
   "metadata": {},
   "source": [
    "### Import Data"
   ]
  },
  {
   "cell_type": "code",
   "execution_count": 2,
   "id": "bee5e158-545a-4929-9871-692c018c370c",
   "metadata": {},
   "outputs": [
    {
     "data": {
      "text/html": [
       "<div>\n",
       "<style scoped>\n",
       "    .dataframe tbody tr th:only-of-type {\n",
       "        vertical-align: middle;\n",
       "    }\n",
       "\n",
       "    .dataframe tbody tr th {\n",
       "        vertical-align: top;\n",
       "    }\n",
       "\n",
       "    .dataframe thead th {\n",
       "        text-align: right;\n",
       "    }\n",
       "</style>\n",
       "<table border=\"1\" class=\"dataframe\">\n",
       "  <thead>\n",
       "    <tr style=\"text-align: right;\">\n",
       "      <th></th>\n",
       "      <th>ENROLID</th>\n",
       "      <th>AGE</th>\n",
       "      <th>SEX</th>\n",
       "      <th>I</th>\n",
       "      <th>II</th>\n",
       "      <th>III</th>\n",
       "      <th>IV</th>\n",
       "      <th>V</th>\n",
       "      <th>VI</th>\n",
       "      <th>VII</th>\n",
       "      <th>VIII</th>\n",
       "      <th>X</th>\n",
       "      <th>XI</th>\n",
       "      <th>XII</th>\n",
       "      <th>XIII</th>\n",
       "      <th>XIV</th>\n",
       "      <th>XV</th>\n",
       "      <th>XVI</th>\n",
       "      <th>XVII</th>\n",
       "      <th>XVIII</th>\n",
       "      <th>XIX</th>\n",
       "      <th>XX</th>\n",
       "      <th>XXI</th>\n",
       "      <th>XXII</th>\n",
       "      <th>LABEL</th>\n",
       "    </tr>\n",
       "  </thead>\n",
       "  <tbody>\n",
       "    <tr>\n",
       "      <th>0</th>\n",
       "      <td>571103</td>\n",
       "      <td>57</td>\n",
       "      <td>1</td>\n",
       "      <td>1</td>\n",
       "      <td>0</td>\n",
       "      <td>0</td>\n",
       "      <td>0</td>\n",
       "      <td>0</td>\n",
       "      <td>1</td>\n",
       "      <td>0</td>\n",
       "      <td>0</td>\n",
       "      <td>5</td>\n",
       "      <td>2</td>\n",
       "      <td>0</td>\n",
       "      <td>1</td>\n",
       "      <td>4</td>\n",
       "      <td>0</td>\n",
       "      <td>0</td>\n",
       "      <td>0</td>\n",
       "      <td>9</td>\n",
       "      <td>2</td>\n",
       "      <td>0</td>\n",
       "      <td>1</td>\n",
       "      <td>0</td>\n",
       "      <td>1</td>\n",
       "    </tr>\n",
       "    <tr>\n",
       "      <th>1</th>\n",
       "      <td>13452502</td>\n",
       "      <td>54</td>\n",
       "      <td>1</td>\n",
       "      <td>3</td>\n",
       "      <td>0</td>\n",
       "      <td>0</td>\n",
       "      <td>0</td>\n",
       "      <td>1</td>\n",
       "      <td>0</td>\n",
       "      <td>0</td>\n",
       "      <td>0</td>\n",
       "      <td>0</td>\n",
       "      <td>0</td>\n",
       "      <td>2</td>\n",
       "      <td>0</td>\n",
       "      <td>5</td>\n",
       "      <td>0</td>\n",
       "      <td>0</td>\n",
       "      <td>0</td>\n",
       "      <td>2</td>\n",
       "      <td>1</td>\n",
       "      <td>0</td>\n",
       "      <td>1</td>\n",
       "      <td>0</td>\n",
       "      <td>0</td>\n",
       "    </tr>\n",
       "    <tr>\n",
       "      <th>2</th>\n",
       "      <td>14357306</td>\n",
       "      <td>27</td>\n",
       "      <td>1</td>\n",
       "      <td>0</td>\n",
       "      <td>0</td>\n",
       "      <td>0</td>\n",
       "      <td>0</td>\n",
       "      <td>2</td>\n",
       "      <td>0</td>\n",
       "      <td>0</td>\n",
       "      <td>0</td>\n",
       "      <td>0</td>\n",
       "      <td>0</td>\n",
       "      <td>0</td>\n",
       "      <td>0</td>\n",
       "      <td>0</td>\n",
       "      <td>0</td>\n",
       "      <td>0</td>\n",
       "      <td>0</td>\n",
       "      <td>0</td>\n",
       "      <td>0</td>\n",
       "      <td>0</td>\n",
       "      <td>0</td>\n",
       "      <td>0</td>\n",
       "      <td>1</td>\n",
       "    </tr>\n",
       "    <tr>\n",
       "      <th>3</th>\n",
       "      <td>14828304</td>\n",
       "      <td>16</td>\n",
       "      <td>2</td>\n",
       "      <td>0</td>\n",
       "      <td>0</td>\n",
       "      <td>0</td>\n",
       "      <td>0</td>\n",
       "      <td>0</td>\n",
       "      <td>3</td>\n",
       "      <td>0</td>\n",
       "      <td>0</td>\n",
       "      <td>0</td>\n",
       "      <td>0</td>\n",
       "      <td>0</td>\n",
       "      <td>1</td>\n",
       "      <td>2</td>\n",
       "      <td>0</td>\n",
       "      <td>0</td>\n",
       "      <td>1</td>\n",
       "      <td>3</td>\n",
       "      <td>2</td>\n",
       "      <td>0</td>\n",
       "      <td>2</td>\n",
       "      <td>0</td>\n",
       "      <td>0</td>\n",
       "    </tr>\n",
       "    <tr>\n",
       "      <th>4</th>\n",
       "      <td>15194602</td>\n",
       "      <td>59</td>\n",
       "      <td>2</td>\n",
       "      <td>0</td>\n",
       "      <td>1</td>\n",
       "      <td>0</td>\n",
       "      <td>0</td>\n",
       "      <td>0</td>\n",
       "      <td>0</td>\n",
       "      <td>0</td>\n",
       "      <td>0</td>\n",
       "      <td>1</td>\n",
       "      <td>0</td>\n",
       "      <td>0</td>\n",
       "      <td>0</td>\n",
       "      <td>0</td>\n",
       "      <td>0</td>\n",
       "      <td>0</td>\n",
       "      <td>0</td>\n",
       "      <td>1</td>\n",
       "      <td>0</td>\n",
       "      <td>0</td>\n",
       "      <td>7</td>\n",
       "      <td>0</td>\n",
       "      <td>0</td>\n",
       "    </tr>\n",
       "  </tbody>\n",
       "</table>\n",
       "</div>"
      ],
      "text/plain": [
       "    ENROLID  AGE  SEX  I  II  III  IV  V  VI  VII  VIII  X  XI  XII  XIII  \\\n",
       "0    571103   57    1  1   0    0   0  0   1    0     0  5   2    0     1   \n",
       "1  13452502   54    1  3   0    0   0  1   0    0     0  0   0    2     0   \n",
       "2  14357306   27    1  0   0    0   0  2   0    0     0  0   0    0     0   \n",
       "3  14828304   16    2  0   0    0   0  0   3    0     0  0   0    0     1   \n",
       "4  15194602   59    2  0   1    0   0  0   0    0     0  1   0    0     0   \n",
       "\n",
       "   XIV  XV  XVI  XVII  XVIII  XIX  XX  XXI  XXII  LABEL  \n",
       "0    4   0    0     0      9    2   0    1     0      1  \n",
       "1    5   0    0     0      2    1   0    1     0      0  \n",
       "2    0   0    0     0      0    0   0    0     0      1  \n",
       "3    2   0    0     1      3    2   0    2     0      0  \n",
       "4    0   0    0     0      1    0   0    7     0      0  "
      ]
     },
     "execution_count": 2,
     "metadata": {},
     "output_type": "execute_result"
    }
   ],
   "source": [
    "# Import data\n",
    "df = pd.read_csv('df19_20.csv')\n",
    "df.head()"
   ]
  },
  {
   "cell_type": "markdown",
   "id": "ddba4074-0fc1-4448-964f-b9aa66136d2f",
   "metadata": {
    "tags": []
   },
   "source": [
    "### Split Data"
   ]
  },
  {
   "cell_type": "code",
   "execution_count": 3,
   "id": "ad8714ff-5cea-4e29-8a71-055b339ada18",
   "metadata": {},
   "outputs": [],
   "source": [
    "# Set Input Variables and Target Variable\n",
    "X = df.drop(columns = ['ENROLID', 'LABEL'], axis = 1)\n",
    "y = df['LABEL']"
   ]
  },
  {
   "cell_type": "code",
   "execution_count": 4,
   "id": "1135bbb4-7cef-42fb-839c-8b39a4afa864",
   "metadata": {},
   "outputs": [],
   "source": [
    "# import train_test split function\n",
    "from sklearn.model_selection import train_test_split \n",
    "\n",
    "# use train_test_split function to split data into training and testing data\n",
    "X_train, X_test, y_train, y_test = train_test_split(X, y, test_size=0.3, random_state=1, stratify=y)"
   ]
  },
  {
   "cell_type": "code",
   "execution_count": 5,
   "id": "f1e1a533-c960-4451-94e7-6ff54ea20f23",
   "metadata": {},
   "outputs": [
    {
     "data": {
      "text/plain": [
       "(26530, 23)"
      ]
     },
     "execution_count": 5,
     "metadata": {},
     "output_type": "execute_result"
    }
   ],
   "source": [
    "X_train.shape"
   ]
  },
  {
   "cell_type": "code",
   "execution_count": 6,
   "id": "ae5b8a42-84cc-485d-b774-903e61bdf104",
   "metadata": {},
   "outputs": [
    {
     "data": {
      "text/plain": [
       "([<matplotlib.axis.XTick at 0x1fdf89afac0>,\n",
       "  <matplotlib.axis.XTick at 0x1fdf89afa90>],\n",
       " [Text(0, 0, 'No Risk'), Text(1, 0, 'At Risk')])"
      ]
     },
     "execution_count": 6,
     "metadata": {},
     "output_type": "execute_result"
    },
    {
     "data": {
      "image/png": "[encoded data removed]",
      "text/plain": [
       "<Figure size 720x504 with 1 Axes>"
      ]
     },
     "metadata": {
      "needs_background": "light"
     },
     "output_type": "display_data"
    }
   ],
   "source": [
    "# label frequency\n",
    "plt.figure(figsize=(10, 7))\n",
    "ax = y_train.value_counts().plot.bar()\n",
    "ax.set_title('Class Distribution')\n",
    "plt.xlabel(\"Class\")\n",
    "plt.ylabel(\"Count\")\n",
    "plt.xticks([0, 1], ['No Risk', 'At Risk'], rotation=0)"
   ]
  },
  {
   "cell_type": "markdown",
   "id": "92de8229-8231-4b10-b69e-a3d88ea46ab9",
   "metadata": {},
   "source": [
    "### Standardize data"
   ]
  },
  {
   "cell_type": "code",
   "execution_count": 7,
   "id": "dc002265-adfc-45e8-aa4a-4bbfce636fff",
   "metadata": {},
   "outputs": [],
   "source": [
    "# import scaler\n",
    "from sklearn.preprocessing import StandardScaler"
   ]
  },
  {
   "cell_type": "code",
   "execution_count": 8,
   "id": "ba9d5ea2-7113-4dbd-81c4-2d84ff40e258",
   "metadata": {},
   "outputs": [],
   "source": [
    "# create an instance of the scaler\n",
    "scaler = StandardScaler()\n",
    "\n",
    "# Fit on training set only.\n",
    "scaler.fit(X_train)\n",
    "\n",
    "# Apply transform to both the training set and the test set.\n",
    "X_train = scaler.transform(X_train)\n",
    "X_test = scaler.transform(X_test)"
   ]
  },
  {
   "cell_type": "markdown",
   "id": "b1ed356c-534e-4622-bf68-f147fec8d35e",
   "metadata": {
    "tags": []
   },
   "source": [
    "### SMOTE to tackle imbalanced data problem"
   ]
  },
  {
   "cell_type": "markdown",
   "id": "d62846d8-3888-4336-b7ce-3803412a0ed2",
   "metadata": {},
   "source": [
    "https://imbalanced-learn.org/stable/references/generated/imblearn.over_sampling.SMOTE.html"
   ]
  },
  {
   "cell_type": "code",
   "execution_count": 9,
   "id": "ab82855e-c5c8-42cf-9a12-c2c4c10076ea",
   "metadata": {},
   "outputs": [],
   "source": [
    "# install first if using it first-time\n",
    "# import sys\n",
    "# !{sys.executable} -m pip install imblearn"
   ]
  },
  {
   "cell_type": "code",
   "execution_count": 10,
   "id": "7b93e577-d5cd-45b4-adab-ce09cc8f7233",
   "metadata": {},
   "outputs": [],
   "source": [
    "# import SMOTE module from imblearn library\n",
    "# pip install imblearn (if you don't have imblearn in your system)\n",
    "from imblearn.over_sampling import SMOTE"
   ]
  },
  {
   "cell_type": "markdown",
   "id": "e6052a86-9f4b-4cba-9f34-d87179ed2f6c",
   "metadata": {},
   "source": [
    "#### SMOTE to oversample the training data"
   ]
  },
  {
   "cell_type": "code",
   "execution_count": 11,
   "id": "5fe01f3f-119d-4b50-8510-ce447169e3ed",
   "metadata": {},
   "outputs": [],
   "source": [
    "# create an instance of SMOTE model\n",
    "sm = SMOTE(random_state = 1)\n",
    "\n",
    "# apply SMOTE to training set\n",
    "X_train_sm, y_train_sm = sm.fit_resample(X_train, y_train.ravel())"
   ]
  },
  {
   "cell_type": "code",
   "execution_count": 12,
   "id": "469748c8-9aec-47ad-8049-ef1976fb4125",
   "metadata": {},
   "outputs": [
    {
     "data": {
      "text/plain": [
       "(41434, 23)"
      ]
     },
     "execution_count": 12,
     "metadata": {},
     "output_type": "execute_result"
    }
   ],
   "source": [
    "X_train_sm.shape"
   ]
  },
  {
   "cell_type": "code",
   "execution_count": 13,
   "id": "ccd7a855-4c5f-46f9-92df-c59c060ffb67",
   "metadata": {},
   "outputs": [
    {
     "data": {
      "text/plain": [
       "array([1, 0, 0, ..., 1, 1, 1], dtype=int64)"
      ]
     },
     "execution_count": 13,
     "metadata": {},
     "output_type": "execute_result"
    }
   ],
   "source": [
    "y_train_sm"
   ]
  },
  {
   "cell_type": "code",
   "execution_count": 14,
   "id": "16f6c0cc-2c1a-44c2-bf37-dbd5f308d3eb",
   "metadata": {},
   "outputs": [
    {
     "data": {
      "text/plain": [
       "([<matplotlib.axis.XTick at 0x1fdfb7b1ca0>,\n",
       "  <matplotlib.axis.XTick at 0x1fdfb7b1c70>],\n",
       " [Text(0, 0, 'No Risk'), Text(1, 0, 'At Risk')])"
      ]
     },
     "execution_count": 14,
     "metadata": {},
     "output_type": "execute_result"
    },
    {
     "data": {
      "image/png": "[encoded data removed]",
      "text/plain": [
       "<Figure size 720x504 with 1 Axes>"
      ]
     },
     "metadata": {
      "needs_background": "light"
     },
     "output_type": "display_data"
    }
   ],
   "source": [
    "#search unique labels\n",
    "lebels = list(np.unique(y_train_sm))\n",
    "\n",
    "#count occurrences of each unique label\n",
    "lebel_count = list(np.unique(y_train_sm, return_counts=True)[1])\n",
    "\n",
    "# label frequency\n",
    "plt.figure(figsize=(10, 7))\n",
    "plt.bar(lebels, lebel_count, width = 0.5)\n",
    "plt.title('Class Distribution')\n",
    "plt.xlabel(\"Class\")\n",
    "plt.ylabel(\"Count\")\n",
    "plt.xticks([0, 1], ['No Risk', 'At Risk'], rotation=0)"
   ]
  },
  {
   "cell_type": "markdown",
   "id": "85b9d709-cdb9-4a97-8eae-805663d2ba38",
   "metadata": {},
   "source": [
    "### SVM modelling"
   ]
  },
  {
   "cell_type": "code",
   "execution_count": 16,
   "id": "2cdc042c-44e2-4867-a69c-45ed25798892",
   "metadata": {},
   "outputs": [],
   "source": [
    "#Import svm model\n",
    "from sklearn import svm"
   ]
  },
  {
   "cell_type": "code",
   "execution_count": 17,
   "id": "0c4690b6-c013-4448-a4e9-d5d45f0a6b23",
   "metadata": {},
   "outputs": [],
   "source": [
    "# create a svm Classifier\n",
    "SVM_clf = svm.SVC(probability=True) # probability=True"
   ]
  },
  {
   "cell_type": "code",
   "execution_count": 18,
   "id": "9f6750d8-bba3-43fa-b871-f01f195b5b06",
   "metadata": {},
   "outputs": [
    {
     "data": {
      "text/plain": [
       "SVC(probability=True)"
      ]
     },
     "execution_count": 18,
     "metadata": {},
     "output_type": "execute_result"
    }
   ],
   "source": [
    "# train the model (682 sec)\n",
    "SVM_clf.fit(X_train_sm, y_train_sm) "
   ]
  },
  {
   "cell_type": "markdown",
   "id": "838febb9-0db0-44da-a1a1-ef1206008efd",
   "metadata": {},
   "source": [
    "##### training took 682 seconds"
   ]
  },
  {
   "cell_type": "markdown",
   "id": "27637f20-a847-4878-ae9e-3c457d60d1ce",
   "metadata": {
    "tags": []
   },
   "source": [
    "#### Evaluate the Model without PCA"
   ]
  },
  {
   "cell_type": "code",
   "execution_count": 19,
   "id": "13f8c400-d2c3-44bc-856f-cec347100a9b",
   "metadata": {},
   "outputs": [],
   "source": [
    "from sklearn.metrics import confusion_matrix, classification_report, roc_auc_score, roc_curve, plot_confusion_matrix"
   ]
  },
  {
   "cell_type": "code",
   "execution_count": 20,
   "id": "91f792fc-5b52-4631-977f-9e50855c8b95",
   "metadata": {},
   "outputs": [],
   "source": [
    "# Calculate the probability ROC\n",
    "y_pred_proba = SVM_clf.predict_proba(X_test)[:, 1]"
   ]
  },
  {
   "cell_type": "code",
   "execution_count": 21,
   "id": "d3b3390e-e366-4517-b84d-22181f9cc397",
   "metadata": {},
   "outputs": [
    {
     "data": {
      "image/png": "[encoded data removed]",
      "text/plain": [
       "<Figure size 432x288 with 1 Axes>"
      ]
     },
     "metadata": {
      "needs_background": "light"
     },
     "output_type": "display_data"
    }
   ],
   "source": [
    "fpr, tpr, thresholds = roc_curve(y_test, y_pred_proba)\n",
    "\n",
    "# Calculate the AUC ROC score for SVM\n",
    "auc_roc = roc_auc_score(y_test, y_pred_proba)\n",
    "\n",
    "# Plot the ROC curve\n",
    "plt.plot(fpr, tpr, label=f'AUC ROC = {auc_roc:.5f}')\n",
    "plt.plot([0, 1], [0, 1], linestyle='--')\n",
    "plt.xlabel('False Positive Rate')\n",
    "plt.ylabel('True Positive Rate')\n",
    "plt.legend()\n",
    "plt.show()"
   ]
  },
  {
   "cell_type": "code",
   "execution_count": 22,
   "id": "6dbddb18-587f-44cf-a3df-b547d76b7b6b",
   "metadata": {},
   "outputs": [
    {
     "name": "stderr",
     "output_type": "stream",
     "text": [
      "C:\\Users\\nasri\\anaconda3\\lib\\site-packages\\sklearn\\utils\\deprecation.py:87: FutureWarning: Function plot_confusion_matrix is deprecated; Function `plot_confusion_matrix` is deprecated in 1.0 and will be removed in 1.2. Use one of the class methods: ConfusionMatrixDisplay.from_predictions or ConfusionMatrixDisplay.from_estimator.\n",
      "  warnings.warn(msg, category=FutureWarning)\n"
     ]
    },
    {
     "data": {
      "text/plain": [
       "Text(0.5, 1.0, 'SVM')"
      ]
     },
     "execution_count": 22,
     "metadata": {},
     "output_type": "execute_result"
    },
    {
     "data": {
      "text/plain": [
       "<Figure size 720x504 with 0 Axes>"
      ]
     },
     "metadata": {},
     "output_type": "display_data"
    },
    {
     "data": {
      "image/png": "[encoded data removed]",
      "text/plain": [
       "<Figure size 432x288 with 2 Axes>"
      ]
     },
     "metadata": {
      "needs_background": "light"
     },
     "output_type": "display_data"
    }
   ],
   "source": [
    "plt.figure(figsize=(10, 7))\n",
    "plot_confusion_matrix(SVM_clf, X_test, y_test)\n",
    "plt.title(\"SVM\")"
   ]
  },
  {
   "cell_type": "code",
   "execution_count": 23,
   "id": "b6851260-8910-4c8f-b9b0-cb767f4e0990",
   "metadata": {},
   "outputs": [],
   "source": [
    "# PRC\n",
    "from sklearn.metrics import auc, precision_recall_curve\n",
    "precision_poly, recall_poly, thresholds_poly = precision_recall_curve(y_test, y_pred_proba)"
   ]
  },
  {
   "cell_type": "code",
   "execution_count": 24,
   "id": "b547954b-03c0-417b-9e64-b6af4293e5fb",
   "metadata": {},
   "outputs": [],
   "source": [
    "# AUPRC\n",
    "auprc_poly = auc(recall_poly, precision_poly)"
   ]
  },
  {
   "cell_type": "code",
   "execution_count": 25,
   "id": "138f1213-b2f9-45df-9cb2-44c193fc8c4e",
   "metadata": {},
   "outputs": [
    {
     "data": {
      "image/png": "[encoded data removed]",
      "text/plain": [
       "<Figure size 432x288 with 1 Axes>"
      ]
     },
     "metadata": {
      "needs_background": "light"
     },
     "output_type": "display_data"
    }
   ],
   "source": [
    "# Plot the PRC\n",
    "plt.plot(recall_poly, precision_poly, label=f'AUPRC = {auprc_poly:.5f}')\n",
    "plt.xlabel('Recall')\n",
    "plt.ylabel('Precision')\n",
    "plt.legend()\n",
    "plt.show()"
   ]
  },
  {
   "cell_type": "code",
   "execution_count": 26,
   "id": "50a23eba-075d-47ae-a6cb-23b61f5d6de3",
   "metadata": {},
   "outputs": [],
   "source": [
    "# another way to account for when denominator is zero\n",
    "numerator = 2 * recall_poly * precision_poly\n",
    "denom = recall_poly + precision_poly\n",
    "f1_scores = np.divide(numerator, denom, out=np.zeros_like(denom), where=(denom!=0))\n",
    "max_f1 = np.max(f1_scores)\n",
    "max_f1_thresh = thresholds_poly[np.argmax(f1_scores)]"
   ]
  },
  {
   "cell_type": "code",
   "execution_count": 27,
   "id": "125d06bf-c63b-40cd-bbc4-ab9b9c87318e",
   "metadata": {},
   "outputs": [
    {
     "name": "stdout",
     "output_type": "stream",
     "text": [
      "Best threshold:  0.4572625088622057\n",
      "Best F1-Score:  0.50418440757598\n"
     ]
    }
   ],
   "source": [
    "print('Best threshold: ', max_f1_thresh)\n",
    "print('Best F1-Score: ', max_f1)"
   ]
  },
  {
   "cell_type": "markdown",
   "id": "f6762a07-3bed-4ee2-a629-2dc1ab1d9b65",
   "metadata": {},
   "source": [
    "## PCA"
   ]
  },
  {
   "cell_type": "code",
   "execution_count": 28,
   "id": "4f128d84-3ca2-467c-bc13-81de18c8e01f",
   "metadata": {},
   "outputs": [],
   "source": [
    "# import PCA\n",
    "from sklearn.decomposition import PCA\n",
    "\n",
    "# create PCA class with reduction to 2 dimensions\n",
    "pca = PCA(n_components=2)\n",
    "\n",
    "# apply PCA on the features\n",
    "principalComponents = pca.fit_transform(X_train_sm)\n",
    "\n",
    "# put the principal components in a dataframe\n",
    "principalDf = pd.DataFrame(data = principalComponents, columns = ['principal component 1', 'principal component 2'])"
   ]
  },
  {
   "cell_type": "code",
   "execution_count": 29,
   "id": "ad641e99-62c9-4529-94e3-7038990b4e6a",
   "metadata": {},
   "outputs": [],
   "source": [
    "# combine with the labels\n",
    "principalDf['LABEL'] = y_train_sm.tolist()"
   ]
  },
  {
   "cell_type": "code",
   "execution_count": 30,
   "id": "f3dbbac3-0b5d-4fb9-8365-bf9f6a72b593",
   "metadata": {},
   "outputs": [
    {
     "data": {
      "text/html": [
       "<div>\n",
       "<style scoped>\n",
       "    .dataframe tbody tr th:only-of-type {\n",
       "        vertical-align: middle;\n",
       "    }\n",
       "\n",
       "    .dataframe tbody tr th {\n",
       "        vertical-align: top;\n",
       "    }\n",
       "\n",
       "    .dataframe thead th {\n",
       "        text-align: right;\n",
       "    }\n",
       "</style>\n",
       "<table border=\"1\" class=\"dataframe\">\n",
       "  <thead>\n",
       "    <tr style=\"text-align: right;\">\n",
       "      <th></th>\n",
       "      <th>principal component 1</th>\n",
       "      <th>principal component 2</th>\n",
       "      <th>LABEL</th>\n",
       "    </tr>\n",
       "  </thead>\n",
       "  <tbody>\n",
       "    <tr>\n",
       "      <th>0</th>\n",
       "      <td>0.406124</td>\n",
       "      <td>-0.608142</td>\n",
       "      <td>1</td>\n",
       "    </tr>\n",
       "    <tr>\n",
       "      <th>1</th>\n",
       "      <td>0.076581</td>\n",
       "      <td>2.658609</td>\n",
       "      <td>0</td>\n",
       "    </tr>\n",
       "    <tr>\n",
       "      <th>2</th>\n",
       "      <td>0.363070</td>\n",
       "      <td>1.163970</td>\n",
       "      <td>0</td>\n",
       "    </tr>\n",
       "    <tr>\n",
       "      <th>3</th>\n",
       "      <td>-1.592793</td>\n",
       "      <td>0.244234</td>\n",
       "      <td>0</td>\n",
       "    </tr>\n",
       "    <tr>\n",
       "      <th>4</th>\n",
       "      <td>-1.170138</td>\n",
       "      <td>-0.371003</td>\n",
       "      <td>0</td>\n",
       "    </tr>\n",
       "    <tr>\n",
       "      <th>...</th>\n",
       "      <td>...</td>\n",
       "      <td>...</td>\n",
       "      <td>...</td>\n",
       "    </tr>\n",
       "    <tr>\n",
       "      <th>41429</th>\n",
       "      <td>2.235940</td>\n",
       "      <td>-0.797944</td>\n",
       "      <td>1</td>\n",
       "    </tr>\n",
       "    <tr>\n",
       "      <th>41430</th>\n",
       "      <td>5.234914</td>\n",
       "      <td>-1.286660</td>\n",
       "      <td>1</td>\n",
       "    </tr>\n",
       "    <tr>\n",
       "      <th>41431</th>\n",
       "      <td>-1.821338</td>\n",
       "      <td>1.585693</td>\n",
       "      <td>1</td>\n",
       "    </tr>\n",
       "    <tr>\n",
       "      <th>41432</th>\n",
       "      <td>-0.118139</td>\n",
       "      <td>-1.316325</td>\n",
       "      <td>1</td>\n",
       "    </tr>\n",
       "    <tr>\n",
       "      <th>41433</th>\n",
       "      <td>0.084446</td>\n",
       "      <td>0.789356</td>\n",
       "      <td>1</td>\n",
       "    </tr>\n",
       "  </tbody>\n",
       "</table>\n",
       "<p>41434 rows × 3 columns</p>\n",
       "</div>"
      ],
      "text/plain": [
       "       principal component 1  principal component 2  LABEL\n",
       "0                   0.406124              -0.608142      1\n",
       "1                   0.076581               2.658609      0\n",
       "2                   0.363070               1.163970      0\n",
       "3                  -1.592793               0.244234      0\n",
       "4                  -1.170138              -0.371003      0\n",
       "...                      ...                    ...    ...\n",
       "41429               2.235940              -0.797944      1\n",
       "41430               5.234914              -1.286660      1\n",
       "41431              -1.821338               1.585693      1\n",
       "41432              -0.118139              -1.316325      1\n",
       "41433               0.084446               0.789356      1\n",
       "\n",
       "[41434 rows x 3 columns]"
      ]
     },
     "execution_count": 30,
     "metadata": {},
     "output_type": "execute_result"
    }
   ],
   "source": [
    "principalDf"
   ]
  },
  {
   "cell_type": "markdown",
   "id": "a03e7560-708f-4085-98c9-f6ecaa8f85a1",
   "metadata": {},
   "source": [
    "### Visualize the 2D projection"
   ]
  },
  {
   "cell_type": "code",
   "execution_count": 31,
   "id": "30524d59-b4a2-46f2-927c-604af0b75787",
   "metadata": {},
   "outputs": [
    {
     "data": {
      "image/png": "[encoded data removed]",
      "text/plain": [
       "<Figure size 576x576 with 1 Axes>"
      ]
     },
     "metadata": {
      "needs_background": "light"
     },
     "output_type": "display_data"
    }
   ],
   "source": [
    "fig = plt.figure(figsize = (8,8))\n",
    "ax = fig.add_subplot(1,1,1) \n",
    "ax.set_xlabel('Principal Component 1', fontsize = 15)\n",
    "ax.set_ylabel('Principal Component 2', fontsize = 15)\n",
    "ax.set_title('2 component PCA', fontsize = 20)\n",
    "\n",
    "targets = [0, 1]\n",
    "colors = ['g', 'r']\n",
    "for target, color in zip(targets,colors):\n",
    "    indicesToKeep = principalDf['LABEL'] == target\n",
    "    ax.scatter(principalDf.loc[indicesToKeep, 'principal component 1']\n",
    "               , principalDf.loc[indicesToKeep, 'principal component 2']\n",
    "               , c = color\n",
    "               , s = 50)\n",
    "ax.legend(targets)\n",
    "ax.grid()"
   ]
  },
  {
   "cell_type": "code",
   "execution_count": 32,
   "id": "71291b69-0b07-4519-bcbc-ffee84800100",
   "metadata": {},
   "outputs": [
    {
     "data": {
      "text/plain": [
       "array([0.12884758, 0.07462912])"
      ]
     },
     "execution_count": 32,
     "metadata": {},
     "output_type": "execute_result"
    }
   ],
   "source": [
    "pca.explained_variance_ratio_"
   ]
  },
  {
   "cell_type": "markdown",
   "id": "d0cb22ae-6e15-4a23-8a89-d9a284ce485f",
   "metadata": {},
   "source": [
    "##### Unfortunately, The PCA plot does not reveal a clear distinction between the two classes, indicating that the data is complex and not easily separable."
   ]
  },
  {
   "cell_type": "markdown",
   "id": "c1c5bfad-d51d-4d2f-8f1b-b3bc58cedd3f",
   "metadata": {},
   "source": [
    "#### Find the minimum number of principal components such that 95 percent of the variance is retained."
   ]
  },
  {
   "cell_type": "code",
   "execution_count": 33,
   "id": "efc34811-9105-4a28-b4dd-c23246400ace",
   "metadata": {},
   "outputs": [],
   "source": [
    "# Make an instance of the PCA Model\n",
    "pca_95 = PCA(.95)"
   ]
  },
  {
   "cell_type": "code",
   "execution_count": 34,
   "id": "36c95b28-6a66-4b6b-b936-83a61d7d50e2",
   "metadata": {},
   "outputs": [
    {
     "data": {
      "text/plain": [
       "PCA(n_components=0.95)"
      ]
     },
     "execution_count": 34,
     "metadata": {},
     "output_type": "execute_result"
    }
   ],
   "source": [
    "# fit PCA on the training set\n",
    "pca_95.fit(X_train_sm)"
   ]
  },
  {
   "cell_type": "code",
   "execution_count": 35,
   "id": "07a1228a-d883-49e0-b763-392285673425",
   "metadata": {},
   "outputs": [
    {
     "data": {
      "text/plain": [
       "20"
      ]
     },
     "execution_count": 35,
     "metadata": {},
     "output_type": "execute_result"
    }
   ],
   "source": [
    "# see how many components PCA has after fitting the model\n",
    "pca_95.n_components_"
   ]
  },
  {
   "cell_type": "markdown",
   "id": "fae29251-80d7-474d-8b69-83eadf774667",
   "metadata": {},
   "source": [
    "#### Find the minimum number of principal components such that 85 percent of the variance is retained."
   ]
  },
  {
   "cell_type": "code",
   "execution_count": 36,
   "id": "3a89e714-9afd-41dc-8426-b2ef9ed214b9",
   "metadata": {},
   "outputs": [],
   "source": [
    "# Make an instance of the PCA Model\n",
    "pca_85 = PCA(.85)"
   ]
  },
  {
   "cell_type": "code",
   "execution_count": 37,
   "id": "903fe082-517c-446c-aad1-01bb958f5fdf",
   "metadata": {},
   "outputs": [
    {
     "data": {
      "text/plain": [
       "PCA(n_components=0.85)"
      ]
     },
     "execution_count": 37,
     "metadata": {},
     "output_type": "execute_result"
    }
   ],
   "source": [
    "# fit PCA on the training set\n",
    "pca_85.fit(X_train_sm)"
   ]
  },
  {
   "cell_type": "code",
   "execution_count": 38,
   "id": "ac26129b-3184-4b4b-b675-d046314528a0",
   "metadata": {},
   "outputs": [
    {
     "data": {
      "text/plain": [
       "16"
      ]
     },
     "execution_count": 38,
     "metadata": {},
     "output_type": "execute_result"
    }
   ],
   "source": [
    "# see how many components PCA has after fitting the model\n",
    "pca_85.n_components_"
   ]
  },
  {
   "cell_type": "markdown",
   "id": "c44987a9-9b60-4e9d-9424-45d62dbc42e0",
   "metadata": {},
   "source": [
    "##### for 85% of the variance, the dimension is reduced to 16 (from 23)"
   ]
  },
  {
   "cell_type": "code",
   "execution_count": 39,
   "id": "ab9e9b6b-0d23-409c-bb95-7dee83c19a4c",
   "metadata": {},
   "outputs": [],
   "source": [
    "# transform (apply the mapping) the training and testing set\n",
    "X_train_sm = pca_85.transform(X_train_sm)\n",
    "X_test = pca_85.transform(X_test)"
   ]
  },
  {
   "cell_type": "markdown",
   "id": "0d7a15b0-e977-4605-8225-1f185a7c11d3",
   "metadata": {},
   "source": [
    "### Try the classification model on the reduced data"
   ]
  },
  {
   "cell_type": "code",
   "execution_count": 40,
   "id": "ab268081-765f-4903-abe8-d07d814734ff",
   "metadata": {},
   "outputs": [],
   "source": [
    "# let's try with SVM model\n",
    "# import svm model\n",
    "from sklearn import svm"
   ]
  },
  {
   "cell_type": "code",
   "execution_count": 41,
   "id": "3c39b890-3fb1-462d-a9b0-e0c5e840e820",
   "metadata": {},
   "outputs": [],
   "source": [
    "# create a svm Classifier\n",
    "SVM_clf = svm.SVC(probability=True) # probability=True"
   ]
  },
  {
   "cell_type": "code",
   "execution_count": 42,
   "id": "bc6d0884-ea74-4f9f-9eb7-b690129a8ca9",
   "metadata": {},
   "outputs": [
    {
     "data": {
      "text/plain": [
       "SVC(probability=True)"
      ]
     },
     "execution_count": 42,
     "metadata": {},
     "output_type": "execute_result"
    }
   ],
   "source": [
    "# train the model\n",
    "SVM_clf.fit(X_train_sm, y_train_sm) "
   ]
  },
  {
   "cell_type": "markdown",
   "id": "0064527a-6fe1-4054-ac30-140fbe8451a8",
   "metadata": {},
   "source": [
    "##### training took 655 seconds"
   ]
  },
  {
   "cell_type": "markdown",
   "id": "e8d373ea-db56-45d2-a564-bb77f3353915",
   "metadata": {},
   "source": [
    "#### Evaluate the Model"
   ]
  },
  {
   "cell_type": "code",
   "execution_count": 43,
   "id": "b81dd269-2eef-406a-a944-c80cba2a72e9",
   "metadata": {},
   "outputs": [],
   "source": [
    "from sklearn.metrics import confusion_matrix, classification_report, roc_auc_score, roc_curve, plot_confusion_matrix"
   ]
  },
  {
   "cell_type": "code",
   "execution_count": 44,
   "id": "6f033886-813b-4d93-908d-35e03ee59626",
   "metadata": {},
   "outputs": [],
   "source": [
    "# Calculate the probability ROC\n",
    "y_pred_proba = SVM_clf.predict_proba(X_test)[:, 1]"
   ]
  },
  {
   "cell_type": "code",
   "execution_count": 45,
   "id": "4d97cb32-3aec-406a-9549-268683eb2648",
   "metadata": {},
   "outputs": [
    {
     "data": {
      "image/png": "[encoded data removed]",
      "text/plain": [
       "<Figure size 432x288 with 1 Axes>"
      ]
     },
     "metadata": {
      "needs_background": "light"
     },
     "output_type": "display_data"
    }
   ],
   "source": [
    "fpr, tpr, thresholds = roc_curve(y_test, y_pred_proba)\n",
    "\n",
    "# Calculate the AUC ROC score for SVM\n",
    "auc_roc = roc_auc_score(y_test, y_pred_proba)\n",
    "\n",
    "# Plot the ROC curve\n",
    "plt.plot(fpr, tpr, label=f'AUC ROC = {auc_roc:.5f}')\n",
    "plt.plot([0, 1], [0, 1], linestyle='--')\n",
    "plt.xlabel('False Positive Rate')\n",
    "plt.ylabel('True Positive Rate')\n",
    "plt.legend()\n",
    "plt.show()"
   ]
  },
  {
   "cell_type": "code",
   "execution_count": 46,
   "id": "4dd46a3c-819b-462f-a509-7ef2ca9c1f35",
   "metadata": {},
   "outputs": [
    {
     "name": "stderr",
     "output_type": "stream",
     "text": [
      "C:\\Users\\nasri\\anaconda3\\lib\\site-packages\\sklearn\\utils\\deprecation.py:87: FutureWarning: Function plot_confusion_matrix is deprecated; Function `plot_confusion_matrix` is deprecated in 1.0 and will be removed in 1.2. Use one of the class methods: ConfusionMatrixDisplay.from_predictions or ConfusionMatrixDisplay.from_estimator.\n",
      "  warnings.warn(msg, category=FutureWarning)\n"
     ]
    },
    {
     "data": {
      "text/plain": [
       "Text(0.5, 1.0, 'SVM')"
      ]
     },
     "execution_count": 46,
     "metadata": {},
     "output_type": "execute_result"
    },
    {
     "data": {
      "text/plain": [
       "<Figure size 720x504 with 0 Axes>"
      ]
     },
     "metadata": {},
     "output_type": "display_data"
    },
    {
     "data": {
      "image/png": "[encoded data removed]",
      "text/plain": [
       "<Figure size 432x288 with 2 Axes>"
      ]
     },
     "metadata": {
      "needs_background": "light"
     },
     "output_type": "display_data"
    }
   ],
   "source": [
    "plt.figure(figsize=(10, 7))\n",
    "plot_confusion_matrix(SVM_clf, X_test, y_test)\n",
    "plt.title(\"SVM\")"
   ]
  },
  {
   "cell_type": "code",
   "execution_count": 47,
   "id": "e25e4ac8-a605-43d6-8d6d-8301fc773ae8",
   "metadata": {},
   "outputs": [],
   "source": [
    "# PRC\n",
    "from sklearn.metrics import auc, precision_recall_curve\n",
    "precision_poly, recall_poly, thresholds_poly = precision_recall_curve(y_test, y_pred_proba)"
   ]
  },
  {
   "cell_type": "code",
   "execution_count": 48,
   "id": "fdd3203a-22f1-467b-a965-fbae7559d482",
   "metadata": {},
   "outputs": [],
   "source": [
    "# AUPRC\n",
    "auprc_poly = auc(recall_poly, precision_poly)"
   ]
  },
  {
   "cell_type": "code",
   "execution_count": 49,
   "id": "a9515c29-66ea-4b7f-84c0-14284acad271",
   "metadata": {},
   "outputs": [
    {
     "data": {
      "image/png": "[encoded data removed]",
      "text/plain": [
       "<Figure size 432x288 with 1 Axes>"
      ]
     },
     "metadata": {
      "needs_background": "light"
     },
     "output_type": "display_data"
    }
   ],
   "source": [
    "# Plot the PRC\n",
    "plt.plot(recall_poly, precision_poly, label=f'AUPRC = {auprc_poly:.5f}')\n",
    "plt.xlabel('Recall')\n",
    "plt.ylabel('Precision')\n",
    "plt.legend()\n",
    "plt.show()"
   ]
  },
  {
   "cell_type": "code",
   "execution_count": 50,
   "id": "f9bb18a2-f7ec-4419-a5bc-accad5ad6492",
   "metadata": {},
   "outputs": [],
   "source": [
    "# another way to account for when denominator is zero\n",
    "numerator = 2 * recall_poly * precision_poly\n",
    "denom = recall_poly + precision_poly\n",
    "f1_scores = np.divide(numerator, denom, out=np.zeros_like(denom), where=(denom!=0))\n",
    "max_f1 = np.max(f1_scores)\n",
    "max_f1_thresh = thresholds_poly[np.argmax(f1_scores)]"
   ]
  },
  {
   "cell_type": "code",
   "execution_count": 51,
   "id": "e8837f57-6b03-4983-a2b4-25135a4c85fd",
   "metadata": {},
   "outputs": [
    {
     "name": "stdout",
     "output_type": "stream",
     "text": [
      "Best threshold:  0.46701646627210014\n",
      "Best F1-Score:  0.5031781226903179\n"
     ]
    }
   ],
   "source": [
    "print('Best threshold: ', max_f1_thresh)\n",
    "print('Best F1-Score: ', max_f1)"
   ]
  },
  {
   "cell_type": "markdown",
   "id": "1fedb0dc-d63b-448d-a8f9-d70b8f2e04fc",
   "metadata": {},
   "source": [
    "##### After using PCA for dimensionality reduction, the training time improved slightly, but the performance of the classification model was only marginally affected. The AUC score showed a small improvement, but there was a slight decrease in the true negative rate and an increase in the false negative rate, leading to a minor drop in the area under the precision-recall curve (by only 0.00072)."
   ]
  }
 ],
 "metadata": {
  "kernelspec": {
   "display_name": "Python 3 (ipykernel)",
   "language": "python",
   "name": "python3"
  },
  "language_info": {
   "codemirror_mode": {
    "name": "ipython",
    "version": 3
   },
   "file_extension": ".py",
   "mimetype": "text/x-python",
   "name": "python",
   "nbconvert_exporter": "python",
   "pygments_lexer": "ipython3",
   "version": "3.9.12"
  }
 },
 "nbformat": 4,
 "nbformat_minor": 5
}
